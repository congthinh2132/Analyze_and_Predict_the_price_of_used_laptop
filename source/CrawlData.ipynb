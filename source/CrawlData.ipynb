{
  "cells": [
    {
      "cell_type": "markdown",
      "metadata": {},
      "source": [
        "## CrawlData"
      ]
    },
    {
      "cell_type": "code",
      "execution_count": null,
      "metadata": {
        "colab": {
          "base_uri": "https://localhost:8080/"
        },
        "id": "YP1T7WqOlDHP",
        "outputId": "5269c529-53fc-46ad-cd78-ebf3e720d5de"
      },
      "outputs": [
        {
          "name": "stdout",
          "output_type": "stream",
          "text": [
            "Requirement already satisfied: selenium in /usr/local/lib/python3.10/dist-packages (4.16.0)\n",
            "Requirement already satisfied: beautifulsoup4 in /usr/local/lib/python3.10/dist-packages (4.11.2)\n",
            "Requirement already satisfied: urllib3[socks]<3,>=1.26 in /usr/local/lib/python3.10/dist-packages (from selenium) (2.0.7)\n",
            "Requirement already satisfied: trio~=0.17 in /usr/local/lib/python3.10/dist-packages (from selenium) (0.23.1)\n",
            "Requirement already satisfied: trio-websocket~=0.9 in /usr/local/lib/python3.10/dist-packages (from selenium) (0.11.1)\n",
            "Requirement already satisfied: certifi>=2021.10.8 in /usr/local/lib/python3.10/dist-packages (from selenium) (2023.11.17)\n",
            "Requirement already satisfied: soupsieve>1.2 in /usr/local/lib/python3.10/dist-packages (from beautifulsoup4) (2.5)\n",
            "Requirement already satisfied: attrs>=20.1.0 in /usr/local/lib/python3.10/dist-packages (from trio~=0.17->selenium) (23.1.0)\n",
            "Requirement already satisfied: sortedcontainers in /usr/local/lib/python3.10/dist-packages (from trio~=0.17->selenium) (2.4.0)\n",
            "Requirement already satisfied: idna in /usr/local/lib/python3.10/dist-packages (from trio~=0.17->selenium) (3.6)\n",
            "Requirement already satisfied: outcome in /usr/local/lib/python3.10/dist-packages (from trio~=0.17->selenium) (1.3.0.post0)\n",
            "Requirement already satisfied: sniffio>=1.3.0 in /usr/local/lib/python3.10/dist-packages (from trio~=0.17->selenium) (1.3.0)\n",
            "Requirement already satisfied: exceptiongroup>=1.0.0rc9 in /usr/local/lib/python3.10/dist-packages (from trio~=0.17->selenium) (1.2.0)\n",
            "Requirement already satisfied: wsproto>=0.14 in /usr/local/lib/python3.10/dist-packages (from trio-websocket~=0.9->selenium) (1.2.0)\n",
            "Requirement already satisfied: pysocks!=1.5.7,<2.0,>=1.5.6 in /usr/local/lib/python3.10/dist-packages (from urllib3[socks]<3,>=1.26->selenium) (1.7.1)\n",
            "Requirement already satisfied: h11<1,>=0.9.0 in /usr/local/lib/python3.10/dist-packages (from wsproto>=0.14->trio-websocket~=0.9->selenium) (0.14.0)\n"
          ]
        }
      ],
      "source": [
        "!pip install selenium beautifulsoup4"
      ]
    },
    {
      "cell_type": "code",
      "execution_count": null,
      "metadata": {
        "id": "7PvlREqkisVd"
      },
      "outputs": [],
      "source": [
        "from selenium.webdriver.chrome.options import Options\n",
        "from selenium import webdriver\n",
        "from bs4 import BeautifulSoup\n",
        "from time import sleep\n",
        "\n",
        "options = webdriver.ChromeOptions()\n",
        "options.add_argument(\"--headless\")\n",
        "options.add_argument(\"--no-sandbox\")\n",
        "options.add_argument(f'user-agent=Mozilla/5.0 (Windows Phone 10.0; Android 4.2.1; Microsoft; Lumia 640 XL LTE) AppleWebKit/537.36 (KHTML, like Gecko) Chrome/42.0.2311.135 Mobile Safari/537.36 Edge/12.10166')\n",
        "options.add_argument(\"--disable-dev-shm-usage\")\n",
        "\n",
        "\n",
        "driver = webdriver.Chrome(options=options)"
      ]
    },
    {
      "cell_type": "code",
      "execution_count": null,
      "metadata": {
        "colab": {
          "base_uri": "https://localhost:8080/"
        },
        "id": "R5Q49VdamQo4",
        "outputId": "712ca747-8849-49a7-b777-64965b956b07"
      },
      "outputs": [
        {
          "name": "stdout",
          "output_type": "stream",
          "text": [
            "20\n",
            "40\n",
            "60\n",
            "80\n",
            "100\n",
            "120\n",
            "140\n",
            "160\n",
            "180\n",
            "200\n",
            "220\n",
            "240\n",
            "260\n",
            "280\n",
            "300\n",
            "320\n",
            "340\n",
            "360\n",
            "380\n",
            "400\n",
            "420\n",
            "440\n",
            "460\n",
            "480\n",
            "500\n",
            "520\n",
            "540\n",
            "560\n",
            "580\n",
            "600\n",
            "620\n",
            "640\n",
            "660\n",
            "680\n",
            "700\n",
            "720\n",
            "740\n",
            "760\n",
            "780\n"
          ]
        }
      ],
      "source": [
        "data = []\n",
        "\n",
        "for i in range(61, 100):\n",
        "  url = f\"https://www.newegg.com/tools/laptop-finder?page={i}\"\n",
        "\n",
        "  driver.get(url)\n",
        "  # Scroll down to load all pages (dynamic loading)\n",
        "  last_height = driver.execute_script(\"return document.body.scrollHeight\")\n",
        "\n",
        "  while True:\n",
        "      driver.execute_script(\"window.scrollTo(0, document.body.scrollHeight)\")\n",
        "      new_height = driver.execute_script(\"return document.body.scrollHeight\")\n",
        "      if new_height == last_height:\n",
        "          break\n",
        "      last_height = new_height\n",
        "\n",
        "  # Locate product containers\n",
        "  soup = BeautifulSoup(driver.page_source, \"lxml\")\n",
        "\n",
        "  product_containers = soup.find_all(\"tr\")\n",
        "\n",
        "  # Extract data for each product\n",
        "  for container in product_containers:\n",
        "      try:\n",
        "          # Extract title and link from the anchor tag\n",
        "          title_anchor = container.find(\"a\", class_=\"goods-info\")\n",
        "          title = title_anchor.text.strip()\n",
        "          link = title_anchor[\"href\"]\n",
        "\n",
        "          # Extract price from the price element\n",
        "          price_element = container.find(\"div\", class_=\"goods-price-current\")\n",
        "          price = price_element.find(\"span\", class_=\"goods-price-value\").text.strip()\n",
        "\n",
        "          # Extract other data points from their respective td elements\n",
        "          specs = {}\n",
        "          for spec_element in container.find_all(\"td\", class_=\"td-spec\"):\n",
        "              label = spec_element.find(\"div\", class_=\"hid-text\").text.strip()\n",
        "              value = spec_element.find(\"span\").text.strip()\n",
        "              specs[label] = value\n",
        "\n",
        "          # Create a dictionary for each product\n",
        "          data.append({\n",
        "              \"title\": title,\n",
        "              \"link\": link,\n",
        "              \"price\": price,\n",
        "              \"specs\": specs,\n",
        "          })\n",
        "      except:\n",
        "          continue\n",
        "\n",
        "  # Print extracted data\n",
        "  print(len(data))\n",
        "  sleep(30)"
      ]
    },
    {
      "cell_type": "code",
      "execution_count": null,
      "metadata": {
        "colab": {
          "base_uri": "https://localhost:8080/",
          "height": 597
        },
        "id": "tCaZO5rkmYNF",
        "outputId": "fa51c1c7-de24-468e-c289-f3b752326a96"
      },
      "outputs": [
        {
          "data": {
            "text/html": [
              "\n",
              "  <div id=\"df-b435e910-a81e-40e4-a06d-022571a888fc\" class=\"colab-df-container\">\n",
              "    <div>\n",
              "<style scoped>\n",
              "    .dataframe tbody tr th:only-of-type {\n",
              "        vertical-align: middle;\n",
              "    }\n",
              "\n",
              "    .dataframe tbody tr th {\n",
              "        vertical-align: top;\n",
              "    }\n",
              "\n",
              "    .dataframe thead th {\n",
              "        text-align: right;\n",
              "    }\n",
              "</style>\n",
              "<table border=\"1\" class=\"dataframe\">\n",
              "  <thead>\n",
              "    <tr style=\"text-align: right;\">\n",
              "      <th></th>\n",
              "      <th>title</th>\n",
              "      <th>link</th>\n",
              "      <th>price</th>\n",
              "      <th>specs</th>\n",
              "    </tr>\n",
              "  </thead>\n",
              "  <tbody>\n",
              "    <tr>\n",
              "      <th>0</th>\n",
              "      <td>DELL E7470 14.0\" Grade B Laptop Intel Core i5 ...</td>\n",
              "      <td>https://www.newegg.com/dell-e7470/p/N82E168349...</td>\n",
              "      <td>485.99</td>\n",
              "      <td>{'Screen Size': '14.0\"', 'CPU type': 'Intel Co...</td>\n",
              "    </tr>\n",
              "    <tr>\n",
              "      <th>1</th>\n",
              "      <td>DELL 5480 14.0\" Grade A Laptop Intel Core i5 6...</td>\n",
              "      <td>https://www.newegg.com/dell-5480/p/N82E1683494...</td>\n",
              "      <td>309.99</td>\n",
              "      <td>{'Screen Size': '14.0\"', 'CPU type': 'Intel Co...</td>\n",
              "    </tr>\n",
              "    <tr>\n",
              "      <th>2</th>\n",
              "      <td>HP 15 G2 15.6\" Grade A Laptop Intel Core i7 4t...</td>\n",
              "      <td>https://www.newegg.com/hp-zbook-15-g2/p/N82E16...</td>\n",
              "      <td>619.99</td>\n",
              "      <td>{'Screen Size': '15.6\"', 'CPU type': 'Intel Co...</td>\n",
              "    </tr>\n",
              "    <tr>\n",
              "      <th>3</th>\n",
              "      <td>DELL E5570 15.6\" Grade A Laptop Intel Core i5 ...</td>\n",
              "      <td>https://www.newegg.com/dell-e5570/p/N82E168349...</td>\n",
              "      <td>418.99</td>\n",
              "      <td>{'Screen Size': '15.6\"', 'CPU type': 'Intel Co...</td>\n",
              "    </tr>\n",
              "    <tr>\n",
              "      <th>4</th>\n",
              "      <td>Refurbished A GRADE Dell E7470 Core i5-6200U 2...</td>\n",
              "      <td>https://www.newegg.com/dell-e7470/p/N82E168348...</td>\n",
              "      <td>518.99</td>\n",
              "      <td>{'Screen Size': '14.0\"', 'CPU type': 'Intel Co...</td>\n",
              "    </tr>\n",
              "    <tr>\n",
              "      <th>...</th>\n",
              "      <td>...</td>\n",
              "      <td>...</td>\n",
              "      <td>...</td>\n",
              "      <td>...</td>\n",
              "    </tr>\n",
              "    <tr>\n",
              "      <th>775</th>\n",
              "      <td>Lenovo ThinkPad T14s Gen 3 21CQ004SUS 14\" Note...</td>\n",
              "      <td>https://www.newegg.com/p/1TS-000E-18KJ8?Item=1...</td>\n",
              "      <td>1,909.99</td>\n",
              "      <td>{'Screen Size': '14.0\"', 'Resolution': '1920 x...</td>\n",
              "    </tr>\n",
              "    <tr>\n",
              "      <th>776</th>\n",
              "      <td>HP EliteBook 630 G10 13.3\" Notebook - Full HD ...</td>\n",
              "      <td>https://www.newegg.com/p/1TS-000D-1C720?Item=1...</td>\n",
              "      <td>1,205.99</td>\n",
              "      <td>{'Screen Size': '13.3\"', 'Resolution': '1920 x...</td>\n",
              "    </tr>\n",
              "    <tr>\n",
              "      <th>777</th>\n",
              "      <td>Dell Precision 3000 3480 14\" Mobile Workstatio...</td>\n",
              "      <td>https://www.newegg.com/p/1TS-000A-0Y3K0?Item=1...</td>\n",
              "      <td>1,993.99</td>\n",
              "      <td>{'Screen Size': '14.0\"', 'Resolution': '1920 x...</td>\n",
              "    </tr>\n",
              "    <tr>\n",
              "      <th>778</th>\n",
              "      <td>Dell Precision 5000 5680 16\" Mobile Workstatio...</td>\n",
              "      <td>https://www.newegg.com/p/1TS-000A-0Z8J6?Item=1...</td>\n",
              "      <td>3,499.99</td>\n",
              "      <td>{'Screen Size': '16.0\"', 'Resolution': '1920 x...</td>\n",
              "    </tr>\n",
              "    <tr>\n",
              "      <th>779</th>\n",
              "      <td>HP ZBook Firefly 16 G9 16\" Mobile Workstation ...</td>\n",
              "      <td>https://www.newegg.com/p/1TS-000D-12SK1?Item=1...</td>\n",
              "      <td>2,696.99</td>\n",
              "      <td>{'Screen Size': '16.0\"', 'Resolution': '1920 x...</td>\n",
              "    </tr>\n",
              "  </tbody>\n",
              "</table>\n",
              "<p>780 rows × 4 columns</p>\n",
              "</div>\n",
              "    <div class=\"colab-df-buttons\">\n",
              "\n",
              "  <div class=\"colab-df-container\">\n",
              "    <button class=\"colab-df-convert\" onclick=\"convertToInteractive('df-b435e910-a81e-40e4-a06d-022571a888fc')\"\n",
              "            title=\"Convert this dataframe to an interactive table.\"\n",
              "            style=\"display:none;\">\n",
              "\n",
              "  <svg xmlns=\"http://www.w3.org/2000/svg\" height=\"24px\" viewBox=\"0 -960 960 960\">\n",
              "    <path d=\"M120-120v-720h720v720H120Zm60-500h600v-160H180v160Zm220 220h160v-160H400v160Zm0 220h160v-160H400v160ZM180-400h160v-160H180v160Zm440 0h160v-160H620v160ZM180-180h160v-160H180v160Zm440 0h160v-160H620v160Z\"/>\n",
              "  </svg>\n",
              "    </button>\n",
              "\n",
              "  <style>\n",
              "    .colab-df-container {\n",
              "      display:flex;\n",
              "      gap: 12px;\n",
              "    }\n",
              "\n",
              "    .colab-df-convert {\n",
              "      background-color: #E8F0FE;\n",
              "      border: none;\n",
              "      border-radius: 50%;\n",
              "      cursor: pointer;\n",
              "      display: none;\n",
              "      fill: #1967D2;\n",
              "      height: 32px;\n",
              "      padding: 0 0 0 0;\n",
              "      width: 32px;\n",
              "    }\n",
              "\n",
              "    .colab-df-convert:hover {\n",
              "      background-color: #E2EBFA;\n",
              "      box-shadow: 0px 1px 2px rgba(60, 64, 67, 0.3), 0px 1px 3px 1px rgba(60, 64, 67, 0.15);\n",
              "      fill: #174EA6;\n",
              "    }\n",
              "\n",
              "    .colab-df-buttons div {\n",
              "      margin-bottom: 4px;\n",
              "    }\n",
              "\n",
              "    [theme=dark] .colab-df-convert {\n",
              "      background-color: #3B4455;\n",
              "      fill: #D2E3FC;\n",
              "    }\n",
              "\n",
              "    [theme=dark] .colab-df-convert:hover {\n",
              "      background-color: #434B5C;\n",
              "      box-shadow: 0px 1px 3px 1px rgba(0, 0, 0, 0.15);\n",
              "      filter: drop-shadow(0px 1px 2px rgba(0, 0, 0, 0.3));\n",
              "      fill: #FFFFFF;\n",
              "    }\n",
              "  </style>\n",
              "\n",
              "    <script>\n",
              "      const buttonEl =\n",
              "        document.querySelector('#df-b435e910-a81e-40e4-a06d-022571a888fc button.colab-df-convert');\n",
              "      buttonEl.style.display =\n",
              "        google.colab.kernel.accessAllowed ? 'block' : 'none';\n",
              "\n",
              "      async function convertToInteractive(key) {\n",
              "        const element = document.querySelector('#df-b435e910-a81e-40e4-a06d-022571a888fc');\n",
              "        const dataTable =\n",
              "          await google.colab.kernel.invokeFunction('convertToInteractive',\n",
              "                                                    [key], {});\n",
              "        if (!dataTable) return;\n",
              "\n",
              "        const docLinkHtml = 'Like what you see? Visit the ' +\n",
              "          '<a target=\"_blank\" href=https://colab.research.google.com/notebooks/data_table.ipynb>data table notebook</a>'\n",
              "          + ' to learn more about interactive tables.';\n",
              "        element.innerHTML = '';\n",
              "        dataTable['output_type'] = 'display_data';\n",
              "        await google.colab.output.renderOutput(dataTable, element);\n",
              "        const docLink = document.createElement('div');\n",
              "        docLink.innerHTML = docLinkHtml;\n",
              "        element.appendChild(docLink);\n",
              "      }\n",
              "    </script>\n",
              "  </div>\n",
              "\n",
              "\n",
              "<div id=\"df-5e329ae1-1f8e-4039-b619-fd70b799547b\">\n",
              "  <button class=\"colab-df-quickchart\" onclick=\"quickchart('df-5e329ae1-1f8e-4039-b619-fd70b799547b')\"\n",
              "            title=\"Suggest charts\"\n",
              "            style=\"display:none;\">\n",
              "\n",
              "<svg xmlns=\"http://www.w3.org/2000/svg\" height=\"24px\"viewBox=\"0 0 24 24\"\n",
              "     width=\"24px\">\n",
              "    <g>\n",
              "        <path d=\"M19 3H5c-1.1 0-2 .9-2 2v14c0 1.1.9 2 2 2h14c1.1 0 2-.9 2-2V5c0-1.1-.9-2-2-2zM9 17H7v-7h2v7zm4 0h-2V7h2v10zm4 0h-2v-4h2v4z\"/>\n",
              "    </g>\n",
              "</svg>\n",
              "  </button>\n",
              "\n",
              "<style>\n",
              "  .colab-df-quickchart {\n",
              "      --bg-color: #E8F0FE;\n",
              "      --fill-color: #1967D2;\n",
              "      --hover-bg-color: #E2EBFA;\n",
              "      --hover-fill-color: #174EA6;\n",
              "      --disabled-fill-color: #AAA;\n",
              "      --disabled-bg-color: #DDD;\n",
              "  }\n",
              "\n",
              "  [theme=dark] .colab-df-quickchart {\n",
              "      --bg-color: #3B4455;\n",
              "      --fill-color: #D2E3FC;\n",
              "      --hover-bg-color: #434B5C;\n",
              "      --hover-fill-color: #FFFFFF;\n",
              "      --disabled-bg-color: #3B4455;\n",
              "      --disabled-fill-color: #666;\n",
              "  }\n",
              "\n",
              "  .colab-df-quickchart {\n",
              "    background-color: var(--bg-color);\n",
              "    border: none;\n",
              "    border-radius: 50%;\n",
              "    cursor: pointer;\n",
              "    display: none;\n",
              "    fill: var(--fill-color);\n",
              "    height: 32px;\n",
              "    padding: 0;\n",
              "    width: 32px;\n",
              "  }\n",
              "\n",
              "  .colab-df-quickchart:hover {\n",
              "    background-color: var(--hover-bg-color);\n",
              "    box-shadow: 0 1px 2px rgba(60, 64, 67, 0.3), 0 1px 3px 1px rgba(60, 64, 67, 0.15);\n",
              "    fill: var(--button-hover-fill-color);\n",
              "  }\n",
              "\n",
              "  .colab-df-quickchart-complete:disabled,\n",
              "  .colab-df-quickchart-complete:disabled:hover {\n",
              "    background-color: var(--disabled-bg-color);\n",
              "    fill: var(--disabled-fill-color);\n",
              "    box-shadow: none;\n",
              "  }\n",
              "\n",
              "  .colab-df-spinner {\n",
              "    border: 2px solid var(--fill-color);\n",
              "    border-color: transparent;\n",
              "    border-bottom-color: var(--fill-color);\n",
              "    animation:\n",
              "      spin 1s steps(1) infinite;\n",
              "  }\n",
              "\n",
              "  @keyframes spin {\n",
              "    0% {\n",
              "      border-color: transparent;\n",
              "      border-bottom-color: var(--fill-color);\n",
              "      border-left-color: var(--fill-color);\n",
              "    }\n",
              "    20% {\n",
              "      border-color: transparent;\n",
              "      border-left-color: var(--fill-color);\n",
              "      border-top-color: var(--fill-color);\n",
              "    }\n",
              "    30% {\n",
              "      border-color: transparent;\n",
              "      border-left-color: var(--fill-color);\n",
              "      border-top-color: var(--fill-color);\n",
              "      border-right-color: var(--fill-color);\n",
              "    }\n",
              "    40% {\n",
              "      border-color: transparent;\n",
              "      border-right-color: var(--fill-color);\n",
              "      border-top-color: var(--fill-color);\n",
              "    }\n",
              "    60% {\n",
              "      border-color: transparent;\n",
              "      border-right-color: var(--fill-color);\n",
              "    }\n",
              "    80% {\n",
              "      border-color: transparent;\n",
              "      border-right-color: var(--fill-color);\n",
              "      border-bottom-color: var(--fill-color);\n",
              "    }\n",
              "    90% {\n",
              "      border-color: transparent;\n",
              "      border-bottom-color: var(--fill-color);\n",
              "    }\n",
              "  }\n",
              "</style>\n",
              "\n",
              "  <script>\n",
              "    async function quickchart(key) {\n",
              "      const quickchartButtonEl =\n",
              "        document.querySelector('#' + key + ' button');\n",
              "      quickchartButtonEl.disabled = true;  // To prevent multiple clicks.\n",
              "      quickchartButtonEl.classList.add('colab-df-spinner');\n",
              "      try {\n",
              "        const charts = await google.colab.kernel.invokeFunction(\n",
              "            'suggestCharts', [key], {});\n",
              "      } catch (error) {\n",
              "        console.error('Error during call to suggestCharts:', error);\n",
              "      }\n",
              "      quickchartButtonEl.classList.remove('colab-df-spinner');\n",
              "      quickchartButtonEl.classList.add('colab-df-quickchart-complete');\n",
              "    }\n",
              "    (() => {\n",
              "      let quickchartButtonEl =\n",
              "        document.querySelector('#df-5e329ae1-1f8e-4039-b619-fd70b799547b button');\n",
              "      quickchartButtonEl.style.display =\n",
              "        google.colab.kernel.accessAllowed ? 'block' : 'none';\n",
              "    })();\n",
              "  </script>\n",
              "</div>\n",
              "    </div>\n",
              "  </div>\n"
            ],
            "text/plain": [
              "                                                 title  \\\n",
              "0    DELL E7470 14.0\" Grade B Laptop Intel Core i5 ...   \n",
              "1    DELL 5480 14.0\" Grade A Laptop Intel Core i5 6...   \n",
              "2    HP 15 G2 15.6\" Grade A Laptop Intel Core i7 4t...   \n",
              "3    DELL E5570 15.6\" Grade A Laptop Intel Core i5 ...   \n",
              "4    Refurbished A GRADE Dell E7470 Core i5-6200U 2...   \n",
              "..                                                 ...   \n",
              "775  Lenovo ThinkPad T14s Gen 3 21CQ004SUS 14\" Note...   \n",
              "776  HP EliteBook 630 G10 13.3\" Notebook - Full HD ...   \n",
              "777  Dell Precision 3000 3480 14\" Mobile Workstatio...   \n",
              "778  Dell Precision 5000 5680 16\" Mobile Workstatio...   \n",
              "779  HP ZBook Firefly 16 G9 16\" Mobile Workstation ...   \n",
              "\n",
              "                                                  link     price  \\\n",
              "0    https://www.newegg.com/dell-e7470/p/N82E168349...    485.99   \n",
              "1    https://www.newegg.com/dell-5480/p/N82E1683494...    309.99   \n",
              "2    https://www.newegg.com/hp-zbook-15-g2/p/N82E16...    619.99   \n",
              "3    https://www.newegg.com/dell-e5570/p/N82E168349...    418.99   \n",
              "4    https://www.newegg.com/dell-e7470/p/N82E168348...    518.99   \n",
              "..                                                 ...       ...   \n",
              "775  https://www.newegg.com/p/1TS-000E-18KJ8?Item=1...  1,909.99   \n",
              "776  https://www.newegg.com/p/1TS-000D-1C720?Item=1...  1,205.99   \n",
              "777  https://www.newegg.com/p/1TS-000A-0Y3K0?Item=1...  1,993.99   \n",
              "778  https://www.newegg.com/p/1TS-000A-0Z8J6?Item=1...  3,499.99   \n",
              "779  https://www.newegg.com/p/1TS-000D-12SK1?Item=1...  2,696.99   \n",
              "\n",
              "                                                 specs  \n",
              "0    {'Screen Size': '14.0\"', 'CPU type': 'Intel Co...  \n",
              "1    {'Screen Size': '14.0\"', 'CPU type': 'Intel Co...  \n",
              "2    {'Screen Size': '15.6\"', 'CPU type': 'Intel Co...  \n",
              "3    {'Screen Size': '15.6\"', 'CPU type': 'Intel Co...  \n",
              "4    {'Screen Size': '14.0\"', 'CPU type': 'Intel Co...  \n",
              "..                                                 ...  \n",
              "775  {'Screen Size': '14.0\"', 'Resolution': '1920 x...  \n",
              "776  {'Screen Size': '13.3\"', 'Resolution': '1920 x...  \n",
              "777  {'Screen Size': '14.0\"', 'Resolution': '1920 x...  \n",
              "778  {'Screen Size': '16.0\"', 'Resolution': '1920 x...  \n",
              "779  {'Screen Size': '16.0\"', 'Resolution': '1920 x...  \n",
              "\n",
              "[780 rows x 4 columns]"
            ]
          },
          "execution_count": 17,
          "metadata": {},
          "output_type": "execute_result"
        }
      ],
      "source": [
        "import pandas as pd\n",
        "df = pd.DataFrame(data)\n",
        "df"
      ]
    },
    {
      "cell_type": "code",
      "execution_count": null,
      "metadata": {
        "id": "Qh-p7mrmu6jy"
      },
      "outputs": [],
      "source": [
        "features_d = dict(df['specs'])\n",
        "new_fs = pd.DataFrame.from_dict(features_d).T\n",
        "result = pd.concat([df, new_fs], axis=1)"
      ]
    },
    {
      "cell_type": "code",
      "execution_count": null,
      "metadata": {
        "id": "VoTJ8_l7vejv"
      },
      "outputs": [],
      "source": [
        "result = result.drop('specs', axis=1)"
      ]
    },
    {
      "cell_type": "code",
      "execution_count": null,
      "metadata": {
        "colab": {
          "base_uri": "https://localhost:8080/"
        },
        "id": "oEaE7owfvwl8",
        "outputId": "22370c5e-089c-4ddf-e325-f99fceef0048"
      },
      "outputs": [
        {
          "data": {
            "text/plain": [
              "title                 0\n",
              "link                  0\n",
              "price                 0\n",
              "Screen Size          25\n",
              "CPU type            298\n",
              "Memory              265\n",
              "Storage             272\n",
              "Resolution           85\n",
              "CPU Speed           364\n",
              "Number of Cores     320\n",
              "Operating System    294\n",
              "Webcam              172\n",
              "Touchscreen         169\n",
              "Display Type        426\n",
              "Graphic Type        124\n",
              "GPU                 315\n",
              "Color               505\n",
              "Weight              566\n",
              "Backlit Keyboard    675\n",
              "Thunderbolt         704\n",
              "Card Reader         741\n",
              "dtype: int64"
            ]
          },
          "execution_count": 25,
          "metadata": {},
          "output_type": "execute_result"
        }
      ],
      "source": [
        "result.isnull().sum()"
      ]
    },
    {
      "cell_type": "code",
      "execution_count": null,
      "metadata": {
        "colab": {
          "base_uri": "https://localhost:8080/"
        },
        "id": "Z7o0M2iSvqKW",
        "outputId": "4d84869f-1428-4caf-b733-6e6ac5bcc6a5"
      },
      "outputs": [
        {
          "name": "stdout",
          "output_type": "stream",
          "text": [
            "<class 'pandas.core.frame.DataFrame'>\n",
            "RangeIndex: 780 entries, 0 to 779\n",
            "Data columns (total 21 columns):\n",
            " #   Column            Non-Null Count  Dtype \n",
            "---  ------            --------------  ----- \n",
            " 0   title             780 non-null    object\n",
            " 1   link              780 non-null    object\n",
            " 2   price             780 non-null    object\n",
            " 3   Screen Size       755 non-null    object\n",
            " 4   CPU type          482 non-null    object\n",
            " 5   Memory            515 non-null    object\n",
            " 6   Storage           508 non-null    object\n",
            " 7   Resolution        695 non-null    object\n",
            " 8   CPU Speed         416 non-null    object\n",
            " 9   Number of Cores   460 non-null    object\n",
            " 10  Operating System  486 non-null    object\n",
            " 11  Webcam            608 non-null    object\n",
            " 12  Touchscreen       611 non-null    object\n",
            " 13  Display Type      354 non-null    object\n",
            " 14  Graphic Type      656 non-null    object\n",
            " 15  GPU               465 non-null    object\n",
            " 16  Color             275 non-null    object\n",
            " 17  Weight            214 non-null    object\n",
            " 18  Backlit Keyboard  105 non-null    object\n",
            " 19  Thunderbolt       76 non-null     object\n",
            " 20  Card Reader       39 non-null     object\n",
            "dtypes: object(21)\n",
            "memory usage: 128.1+ KB\n"
          ]
        }
      ],
      "source": [
        "result.info()"
      ]
    },
    {
      "cell_type": "code",
      "execution_count": null,
      "metadata": {
        "id": "hFsw4hPbv_Wy"
      },
      "outputs": [],
      "source": [
        "result.to_csv(\"dataa.csv\")"
      ]
    },
    {
      "cell_type": "markdown",
      "metadata": {},
      "source": [
        "# Xử lý cơ bản dữ liệu"
      ]
    },
    {
      "cell_type": "code",
      "execution_count": null,
      "metadata": {},
      "outputs": [],
      "source": [
        "import pandas as pd\n",
        "import numpy as np"
      ]
    },
    {
      "cell_type": "code",
      "execution_count": null,
      "metadata": {},
      "outputs": [],
      "source": [
        "df = pd.read_csv('newdataset 2.csv')"
      ]
    },
    {
      "cell_type": "code",
      "execution_count": null,
      "metadata": {},
      "outputs": [
        {
          "data": {
            "text/html": [
              "<div>\n",
              "<style scoped>\n",
              "    .dataframe tbody tr th:only-of-type {\n",
              "        vertical-align: middle;\n",
              "    }\n",
              "\n",
              "    .dataframe tbody tr th {\n",
              "        vertical-align: top;\n",
              "    }\n",
              "\n",
              "    .dataframe thead th {\n",
              "        text-align: right;\n",
              "    }\n",
              "</style>\n",
              "<table border=\"1\" class=\"dataframe\">\n",
              "  <thead>\n",
              "    <tr style=\"text-align: right;\">\n",
              "      <th></th>\n",
              "      <th>title</th>\n",
              "      <th>link</th>\n",
              "      <th>price</th>\n",
              "      <th>Screen Size</th>\n",
              "      <th>CPU type</th>\n",
              "      <th>Memory</th>\n",
              "      <th>Storage</th>\n",
              "      <th>GPU</th>\n",
              "      <th>Resolution</th>\n",
              "      <th>Weight</th>\n",
              "      <th>...</th>\n",
              "      <th>Touchscreen</th>\n",
              "      <th>CPU Speed</th>\n",
              "      <th>Number of Cores</th>\n",
              "      <th>Color</th>\n",
              "      <th>Display Type</th>\n",
              "      <th>Graphic Type</th>\n",
              "      <th>Operating System</th>\n",
              "      <th>Webcam</th>\n",
              "      <th>Card Reader</th>\n",
              "      <th>Thunderbolt</th>\n",
              "    </tr>\n",
              "  </thead>\n",
              "  <tbody>\n",
              "    <tr>\n",
              "      <th>0</th>\n",
              "      <td>MSI Modern 15H 15.6\" Ultra Thin and Light Prof...</td>\n",
              "      <td>https://www.newegg.com/classic-black-msi-moder...</td>\n",
              "      <td>699</td>\n",
              "      <td>15.6\"</td>\n",
              "      <td>Intel Core i7 13th Gen</td>\n",
              "      <td>32GB</td>\n",
              "      <td>1 TB PCIe</td>\n",
              "      <td>Intel Iris Xe Graphics</td>\n",
              "      <td>1920 x 1080</td>\n",
              "      <td>3 - 3.9 lbs.</td>\n",
              "      <td>...</td>\n",
              "      <td>No</td>\n",
              "      <td>13620H (2.40GHz)</td>\n",
              "      <td>10-core (6P+4E) Processor</td>\n",
              "      <td>Black</td>\n",
              "      <td>Full HD</td>\n",
              "      <td>Integrated Card</td>\n",
              "      <td>Windows 11 Home</td>\n",
              "      <td>Yes</td>\n",
              "      <td>Micro SD</td>\n",
              "      <td>NaN</td>\n",
              "    </tr>\n",
              "    <tr>\n",
              "      <th>1</th>\n",
              "      <td>Dell Latitude 7400 Intel Core i7 8th Gen 8665U...</td>\n",
              "      <td>https://www.newegg.com/black-dell-latitude-740...</td>\n",
              "      <td>314.99</td>\n",
              "      <td>14.0\"</td>\n",
              "      <td>Intel Core i7 8th Gen</td>\n",
              "      <td>32GB</td>\n",
              "      <td>256 GB</td>\n",
              "      <td>Intel UHD Graphics 620</td>\n",
              "      <td>1920 x 1080</td>\n",
              "      <td>3 - 3.9 lbs.</td>\n",
              "      <td>...</td>\n",
              "      <td>Yes</td>\n",
              "      <td>8665U (1.90GHz)</td>\n",
              "      <td>Quad-core Processor</td>\n",
              "      <td>Black</td>\n",
              "      <td>Full HD</td>\n",
              "      <td>Integrated Card</td>\n",
              "      <td>Windows 11 Pro</td>\n",
              "      <td>NaN</td>\n",
              "      <td>NaN</td>\n",
              "      <td>NaN</td>\n",
              "    </tr>\n",
              "    <tr>\n",
              "      <th>2</th>\n",
              "      <td>Lenovo 83B40000US 15.6\" Laptop Intel Core i3 1...</td>\n",
              "      <td>https://www.newegg.com/abyss-blue-lenovo-ideap...</td>\n",
              "      <td>329.99</td>\n",
              "      <td>15.6\"</td>\n",
              "      <td>Intel Core i3 13th Gen</td>\n",
              "      <td>8GB</td>\n",
              "      <td>256 GB PCIe</td>\n",
              "      <td>Intel UHD Graphics</td>\n",
              "      <td>1920 x 1080</td>\n",
              "      <td>3 - 3.9 lbs.</td>\n",
              "      <td>...</td>\n",
              "      <td>No</td>\n",
              "      <td>1315U (1.20GHz)</td>\n",
              "      <td>6-core (2P+4E) Processor</td>\n",
              "      <td>Blue</td>\n",
              "      <td>Full HD</td>\n",
              "      <td>Integrated Card</td>\n",
              "      <td>Windows 11 in S mode</td>\n",
              "      <td>Yes</td>\n",
              "      <td>SD Card Reader</td>\n",
              "      <td>NaN</td>\n",
              "    </tr>\n",
              "    <tr>\n",
              "      <th>3</th>\n",
              "      <td>Lenovo 82XG0019US 16.0\" Laptop AMD Ryzen 7 700...</td>\n",
              "      <td>https://www.newegg.com/abyss-blue-lenovo-ideap...</td>\n",
              "      <td>649.99</td>\n",
              "      <td>16.0\"</td>\n",
              "      <td>AMD Ryzen 7 7000 Series</td>\n",
              "      <td>16GB</td>\n",
              "      <td>512 GB PCIe</td>\n",
              "      <td>AMD Radeon Graphics</td>\n",
              "      <td>1920 x 1200</td>\n",
              "      <td>4 - 4.9 lbs.</td>\n",
              "      <td>...</td>\n",
              "      <td>Yes</td>\n",
              "      <td>7730U (2.00GHz)</td>\n",
              "      <td>8-core Processor</td>\n",
              "      <td>Blue</td>\n",
              "      <td>WUXGA</td>\n",
              "      <td>Integrated Card</td>\n",
              "      <td>Windows 11 Home</td>\n",
              "      <td>Yes</td>\n",
              "      <td>Micro SD</td>\n",
              "      <td>NaN</td>\n",
              "    </tr>\n",
              "    <tr>\n",
              "      <th>4</th>\n",
              "      <td>GIGABYTE G6 KF - 16\" FHD 1920x1200 165Hz - NVI...</td>\n",
              "      <td>https://www.newegg.com/black-gigabyte-g6-kf-h3...</td>\n",
              "      <td>899.99</td>\n",
              "      <td>16.0\"</td>\n",
              "      <td>Intel Core i7 13th Gen</td>\n",
              "      <td>16GB</td>\n",
              "      <td>512 GB PCIe</td>\n",
              "      <td>NVIDIA GeForce RTX 4060 Laptop GPU</td>\n",
              "      <td>1920 x 1200</td>\n",
              "      <td>5 - 5.9 lbs.</td>\n",
              "      <td>...</td>\n",
              "      <td>No</td>\n",
              "      <td>13620H (2.40GHz)</td>\n",
              "      <td>10-core (6P+4E) Processor</td>\n",
              "      <td>Black</td>\n",
              "      <td>WUXGA</td>\n",
              "      <td>Dedicated Card</td>\n",
              "      <td>Windows 11 Home</td>\n",
              "      <td>NaN</td>\n",
              "      <td>Micro SD</td>\n",
              "      <td>NaN</td>\n",
              "    </tr>\n",
              "    <tr>\n",
              "      <th>...</th>\n",
              "      <td>...</td>\n",
              "      <td>...</td>\n",
              "      <td>...</td>\n",
              "      <td>...</td>\n",
              "      <td>...</td>\n",
              "      <td>...</td>\n",
              "      <td>...</td>\n",
              "      <td>...</td>\n",
              "      <td>...</td>\n",
              "      <td>...</td>\n",
              "      <td>...</td>\n",
              "      <td>...</td>\n",
              "      <td>...</td>\n",
              "      <td>...</td>\n",
              "      <td>...</td>\n",
              "      <td>...</td>\n",
              "      <td>...</td>\n",
              "      <td>...</td>\n",
              "      <td>...</td>\n",
              "      <td>...</td>\n",
              "      <td>...</td>\n",
              "    </tr>\n",
              "    <tr>\n",
              "      <th>1923</th>\n",
              "      <td>Lenovo ThinkPad T14s Gen 3 21CQ004SUS 14\" Note...</td>\n",
              "      <td>https://www.newegg.com/p/1TS-000E-18KJ8?Item=1...</td>\n",
              "      <td>1,909.99</td>\n",
              "      <td>14.0\"</td>\n",
              "      <td>NaN</td>\n",
              "      <td>NaN</td>\n",
              "      <td>NaN</td>\n",
              "      <td>NaN</td>\n",
              "      <td>1920 x 1200</td>\n",
              "      <td>NaN</td>\n",
              "      <td>...</td>\n",
              "      <td>NaN</td>\n",
              "      <td>NaN</td>\n",
              "      <td>NaN</td>\n",
              "      <td>Gray</td>\n",
              "      <td>NaN</td>\n",
              "      <td>Integrated Card</td>\n",
              "      <td>NaN</td>\n",
              "      <td>Yes</td>\n",
              "      <td>NaN</td>\n",
              "      <td>NaN</td>\n",
              "    </tr>\n",
              "    <tr>\n",
              "      <th>1924</th>\n",
              "      <td>HP EliteBook 630 G10 13.3\" Notebook - Full HD ...</td>\n",
              "      <td>https://www.newegg.com/p/1TS-000D-1C720?Item=1...</td>\n",
              "      <td>1,205.99</td>\n",
              "      <td>13.3\"</td>\n",
              "      <td>NaN</td>\n",
              "      <td>NaN</td>\n",
              "      <td>NaN</td>\n",
              "      <td>NaN</td>\n",
              "      <td>1920 x 1080</td>\n",
              "      <td>NaN</td>\n",
              "      <td>...</td>\n",
              "      <td>No</td>\n",
              "      <td>NaN</td>\n",
              "      <td>NaN</td>\n",
              "      <td>NaN</td>\n",
              "      <td>NaN</td>\n",
              "      <td>Integrated Card</td>\n",
              "      <td>NaN</td>\n",
              "      <td>Yes</td>\n",
              "      <td>NaN</td>\n",
              "      <td>NaN</td>\n",
              "    </tr>\n",
              "    <tr>\n",
              "      <th>1925</th>\n",
              "      <td>Dell Precision 3000 3480 14\" Mobile Workstatio...</td>\n",
              "      <td>https://www.newegg.com/p/1TS-000A-0Y3K0?Item=1...</td>\n",
              "      <td>1,993.99</td>\n",
              "      <td>14.0\"</td>\n",
              "      <td>NaN</td>\n",
              "      <td>NaN</td>\n",
              "      <td>NaN</td>\n",
              "      <td>NaN</td>\n",
              "      <td>1920 x 1080</td>\n",
              "      <td>NaN</td>\n",
              "      <td>...</td>\n",
              "      <td>No</td>\n",
              "      <td>NaN</td>\n",
              "      <td>NaN</td>\n",
              "      <td>Gray</td>\n",
              "      <td>NaN</td>\n",
              "      <td>Integrated Card</td>\n",
              "      <td>NaN</td>\n",
              "      <td>Yes</td>\n",
              "      <td>NaN</td>\n",
              "      <td>NaN</td>\n",
              "    </tr>\n",
              "    <tr>\n",
              "      <th>1926</th>\n",
              "      <td>Dell Precision 5000 5680 16\" Mobile Workstatio...</td>\n",
              "      <td>https://www.newegg.com/p/1TS-000A-0Z8J6?Item=1...</td>\n",
              "      <td>3,499.99</td>\n",
              "      <td>16.0\"</td>\n",
              "      <td>NaN</td>\n",
              "      <td>NaN</td>\n",
              "      <td>NaN</td>\n",
              "      <td>NaN</td>\n",
              "      <td>1920 x 1200</td>\n",
              "      <td>NaN</td>\n",
              "      <td>...</td>\n",
              "      <td>No</td>\n",
              "      <td>NaN</td>\n",
              "      <td>NaN</td>\n",
              "      <td>Gray</td>\n",
              "      <td>NaN</td>\n",
              "      <td>Integrated Card</td>\n",
              "      <td>NaN</td>\n",
              "      <td>Yes</td>\n",
              "      <td>NaN</td>\n",
              "      <td>NaN</td>\n",
              "    </tr>\n",
              "    <tr>\n",
              "      <th>1927</th>\n",
              "      <td>HP ZBook Firefly 16 G9 16\" Mobile Workstation ...</td>\n",
              "      <td>https://www.newegg.com/p/1TS-000D-12SK1?Item=1...</td>\n",
              "      <td>2,696.99</td>\n",
              "      <td>16.0\"</td>\n",
              "      <td>NaN</td>\n",
              "      <td>NaN</td>\n",
              "      <td>NaN</td>\n",
              "      <td>NaN</td>\n",
              "      <td>1920 x 1200</td>\n",
              "      <td>NaN</td>\n",
              "      <td>...</td>\n",
              "      <td>NaN</td>\n",
              "      <td>NaN</td>\n",
              "      <td>NaN</td>\n",
              "      <td>NaN</td>\n",
              "      <td>NaN</td>\n",
              "      <td>Integrated Card</td>\n",
              "      <td>NaN</td>\n",
              "      <td>Yes</td>\n",
              "      <td>NaN</td>\n",
              "      <td>NaN</td>\n",
              "    </tr>\n",
              "  </tbody>\n",
              "</table>\n",
              "<p>1928 rows × 21 columns</p>\n",
              "</div>"
            ],
            "text/plain": [
              "                                                  title  \\\n",
              "0     MSI Modern 15H 15.6\" Ultra Thin and Light Prof...   \n",
              "1     Dell Latitude 7400 Intel Core i7 8th Gen 8665U...   \n",
              "2     Lenovo 83B40000US 15.6\" Laptop Intel Core i3 1...   \n",
              "3     Lenovo 82XG0019US 16.0\" Laptop AMD Ryzen 7 700...   \n",
              "4     GIGABYTE G6 KF - 16\" FHD 1920x1200 165Hz - NVI...   \n",
              "...                                                 ...   \n",
              "1923  Lenovo ThinkPad T14s Gen 3 21CQ004SUS 14\" Note...   \n",
              "1924  HP EliteBook 630 G10 13.3\" Notebook - Full HD ...   \n",
              "1925  Dell Precision 3000 3480 14\" Mobile Workstatio...   \n",
              "1926  Dell Precision 5000 5680 16\" Mobile Workstatio...   \n",
              "1927  HP ZBook Firefly 16 G9 16\" Mobile Workstation ...   \n",
              "\n",
              "                                                   link     price Screen Size  \\\n",
              "0     https://www.newegg.com/classic-black-msi-moder...       699       15.6\"   \n",
              "1     https://www.newegg.com/black-dell-latitude-740...    314.99       14.0\"   \n",
              "2     https://www.newegg.com/abyss-blue-lenovo-ideap...    329.99       15.6\"   \n",
              "3     https://www.newegg.com/abyss-blue-lenovo-ideap...    649.99       16.0\"   \n",
              "4     https://www.newegg.com/black-gigabyte-g6-kf-h3...    899.99       16.0\"   \n",
              "...                                                 ...       ...         ...   \n",
              "1923  https://www.newegg.com/p/1TS-000E-18KJ8?Item=1...  1,909.99       14.0\"   \n",
              "1924  https://www.newegg.com/p/1TS-000D-1C720?Item=1...  1,205.99       13.3\"   \n",
              "1925  https://www.newegg.com/p/1TS-000A-0Y3K0?Item=1...  1,993.99       14.0\"   \n",
              "1926  https://www.newegg.com/p/1TS-000A-0Z8J6?Item=1...  3,499.99       16.0\"   \n",
              "1927  https://www.newegg.com/p/1TS-000D-12SK1?Item=1...  2,696.99       16.0\"   \n",
              "\n",
              "                     CPU type Memory      Storage  \\\n",
              "0      Intel Core i7 13th Gen   32GB    1 TB PCIe   \n",
              "1       Intel Core i7 8th Gen   32GB       256 GB   \n",
              "2      Intel Core i3 13th Gen    8GB  256 GB PCIe   \n",
              "3     AMD Ryzen 7 7000 Series   16GB  512 GB PCIe   \n",
              "4      Intel Core i7 13th Gen   16GB  512 GB PCIe   \n",
              "...                       ...    ...          ...   \n",
              "1923                      NaN    NaN          NaN   \n",
              "1924                      NaN    NaN          NaN   \n",
              "1925                      NaN    NaN          NaN   \n",
              "1926                      NaN    NaN          NaN   \n",
              "1927                      NaN    NaN          NaN   \n",
              "\n",
              "                                     GPU   Resolution        Weight  ...  \\\n",
              "0                 Intel Iris Xe Graphics  1920 x 1080  3 - 3.9 lbs.  ...   \n",
              "1                 Intel UHD Graphics 620  1920 x 1080  3 - 3.9 lbs.  ...   \n",
              "2                     Intel UHD Graphics  1920 x 1080  3 - 3.9 lbs.  ...   \n",
              "3                    AMD Radeon Graphics  1920 x 1200  4 - 4.9 lbs.  ...   \n",
              "4     NVIDIA GeForce RTX 4060 Laptop GPU  1920 x 1200  5 - 5.9 lbs.  ...   \n",
              "...                                  ...          ...           ...  ...   \n",
              "1923                                 NaN  1920 x 1200           NaN  ...   \n",
              "1924                                 NaN  1920 x 1080           NaN  ...   \n",
              "1925                                 NaN  1920 x 1080           NaN  ...   \n",
              "1926                                 NaN  1920 x 1200           NaN  ...   \n",
              "1927                                 NaN  1920 x 1200           NaN  ...   \n",
              "\n",
              "     Touchscreen         CPU Speed            Number of Cores  Color  \\\n",
              "0             No  13620H (2.40GHz)  10-core (6P+4E) Processor  Black   \n",
              "1            Yes   8665U (1.90GHz)        Quad-core Processor  Black   \n",
              "2             No   1315U (1.20GHz)   6-core (2P+4E) Processor   Blue   \n",
              "3            Yes   7730U (2.00GHz)           8-core Processor   Blue   \n",
              "4             No  13620H (2.40GHz)  10-core (6P+4E) Processor  Black   \n",
              "...          ...               ...                        ...    ...   \n",
              "1923         NaN               NaN                        NaN   Gray   \n",
              "1924          No               NaN                        NaN    NaN   \n",
              "1925          No               NaN                        NaN   Gray   \n",
              "1926          No               NaN                        NaN   Gray   \n",
              "1927         NaN               NaN                        NaN    NaN   \n",
              "\n",
              "     Display Type     Graphic Type      Operating System Webcam  \\\n",
              "0         Full HD  Integrated Card       Windows 11 Home    Yes   \n",
              "1         Full HD  Integrated Card        Windows 11 Pro    NaN   \n",
              "2         Full HD  Integrated Card  Windows 11 in S mode    Yes   \n",
              "3           WUXGA  Integrated Card       Windows 11 Home    Yes   \n",
              "4           WUXGA   Dedicated Card       Windows 11 Home    NaN   \n",
              "...           ...              ...                   ...    ...   \n",
              "1923          NaN  Integrated Card                   NaN    Yes   \n",
              "1924          NaN  Integrated Card                   NaN    Yes   \n",
              "1925          NaN  Integrated Card                   NaN    Yes   \n",
              "1926          NaN  Integrated Card                   NaN    Yes   \n",
              "1927          NaN  Integrated Card                   NaN    Yes   \n",
              "\n",
              "         Card Reader Thunderbolt  \n",
              "0           Micro SD         NaN  \n",
              "1                NaN         NaN  \n",
              "2     SD Card Reader         NaN  \n",
              "3           Micro SD         NaN  \n",
              "4           Micro SD         NaN  \n",
              "...              ...         ...  \n",
              "1923             NaN         NaN  \n",
              "1924             NaN         NaN  \n",
              "1925             NaN         NaN  \n",
              "1926             NaN         NaN  \n",
              "1927             NaN         NaN  \n",
              "\n",
              "[1928 rows x 21 columns]"
            ]
          },
          "metadata": {},
          "output_type": "display_data"
        }
      ],
      "source": [
        "df = df.drop('Unnamed: 0', axis=1)\n",
        "df"
      ]
    },
    {
      "cell_type": "code",
      "execution_count": null,
      "metadata": {},
      "outputs": [
        {
          "data": {
            "text/plain": [
              "title                  0\n",
              "link                   0\n",
              "price                  0\n",
              "Screen Size           54\n",
              "CPU type             475\n",
              "Memory               390\n",
              "Storage              422\n",
              "GPU                  562\n",
              "Resolution           183\n",
              "Weight              1127\n",
              "Backlit Keyboard    1415\n",
              "Touchscreen          308\n",
              "CPU Speed            602\n",
              "Number of Cores      583\n",
              "Color                949\n",
              "Display Type         828\n",
              "Graphic Type         279\n",
              "Operating System     439\n",
              "Webcam               431\n",
              "Card Reader         1683\n",
              "Thunderbolt         1618\n",
              "dtype: int64"
            ]
          },
          "metadata": {},
          "output_type": "display_data"
        }
      ],
      "source": [
        "df.isnull().sum()"
      ]
    },
    {
      "cell_type": "code",
      "execution_count": null,
      "metadata": {},
      "outputs": [],
      "source": [
        "df.fillna(np.nan, inplace=True)"
      ]
    },
    {
      "cell_type": "code",
      "execution_count": null,
      "metadata": {},
      "outputs": [
        {
          "name": "stdout",
          "output_type": "stream",
          "text": [
            "<class 'pandas.core.frame.DataFrame'>\n",
            "RangeIndex: 1928 entries, 0 to 1927\n",
            "Data columns (total 21 columns):\n",
            " #   Column            Non-Null Count  Dtype \n",
            "---  ------            --------------  ----- \n",
            " 0   title             1928 non-null   object\n",
            " 1   link              1928 non-null   object\n",
            " 2   price             1928 non-null   object\n",
            " 3   Screen Size       1874 non-null   object\n",
            " 4   CPU type          1453 non-null   object\n",
            " 5   Memory            1538 non-null   object\n",
            " 6   Storage           1506 non-null   object\n",
            " 7   GPU               1366 non-null   object\n",
            " 8   Resolution        1745 non-null   object\n",
            " 9   Weight            801 non-null    object\n",
            " 10  Backlit Keyboard  513 non-null    object\n",
            " 11  Touchscreen       1620 non-null   object\n",
            " 12  CPU Speed         1326 non-null   object\n",
            " 13  Number of Cores   1345 non-null   object\n",
            " 14  Color             979 non-null    object\n",
            " 15  Display Type      1100 non-null   object\n",
            " 16  Graphic Type      1649 non-null   object\n",
            " 17  Operating System  1489 non-null   object\n",
            " 18  Webcam            1497 non-null   object\n",
            " 19  Card Reader       245 non-null    object\n",
            " 20  Thunderbolt       310 non-null    object\n",
            "dtypes: object(21)\n",
            "memory usage: 316.4+ KB\n"
          ]
        }
      ],
      "source": [
        "df.info()"
      ]
    },
    {
      "cell_type": "markdown",
      "metadata": {},
      "source": [
        "## Xử lý Resolution"
      ]
    },
    {
      "cell_type": "code",
      "execution_count": null,
      "metadata": {},
      "outputs": [
        {
          "data": {
            "text/plain": [
              "array(['1920 x 1080', '1920 x 1200', '2560 x 1600', '1366 x 768',\n",
              "       '2560 x 1440', '2560 x 1600 (2.5K)', '2880 x 1620', '3200 x 2000',\n",
              "       '2880 x 1800', nan, '3840 x 2400', '1600 x 900', '1440 x 900',\n",
              "       '3840 x 2160', '3072 x 1920', '2496 x 1664', '1920 x 1280',\n",
              "       '1920 x 1028', '2256 x 1504', '2240 x 1400', '2400 x 1600',\n",
              "       '1360 x 768', '2560 x 1664', '1920*1080', '2736 x 1824',\n",
              "       '3000 x 2000', '1800 x 1200', '3300 x 2200', '2880 x 1920',\n",
              "       '3456 x 2160', '3240 x 2160', '2800 x 1752', '1280 x 720',\n",
              "       '1536 x 1024', '2800x1620', '1366 x 912', '1920x1080', '1366x768'],\n",
              "      dtype=object)"
            ]
          },
          "metadata": {},
          "output_type": "display_data"
        }
      ],
      "source": [
        "column = df['Resolution'].unique()\n",
        "column"
      ]
    },
    {
      "cell_type": "code",
      "execution_count": null,
      "metadata": {},
      "outputs": [],
      "source": [
        "def process_brand(brand):\n",
        "  # Chuyển đổi thành chữ thường và loại bỏ khoảng trắng ở đầu và cuối chuỗi\n",
        "  brand = str(brand).replace(\" \",\"\").replace(\"*\", \"x\").replace(\"(2.5K)\",\"\")\n",
        "\n",
        "  return brand"
      ]
    },
    {
      "cell_type": "code",
      "execution_count": null,
      "metadata": {},
      "outputs": [],
      "source": [
        "df['Resolution'] = df['Resolution'].apply(process_brand)"
      ]
    },
    {
      "cell_type": "code",
      "execution_count": null,
      "metadata": {},
      "outputs": [
        {
          "data": {
            "text/plain": [
              "array(['1920x1080', '1920x1200', '2560x1600', '1366x768', '2560x1440',\n",
              "       '2880x1620', '3200x2000', '2880x1800', 'nan', '3840x2400',\n",
              "       '1600x900', '1440x900', '3840x2160', '3072x1920', '2496x1664',\n",
              "       '1920x1280', '1920x1028', '2256x1504', '2240x1400', '2400x1600',\n",
              "       '1360x768', '2560x1664', '2736x1824', '3000x2000', '1800x1200',\n",
              "       '3300x2200', '2880x1920', '3456x2160', '3240x2160', '2800x1752',\n",
              "       '1280x720', '1536x1024', '2800x1620', '1366x912'], dtype=object)"
            ]
          },
          "metadata": {},
          "output_type": "display_data"
        }
      ],
      "source": [
        "column = df['Resolution'].unique()\n",
        "column"
      ]
    },
    {
      "cell_type": "markdown",
      "metadata": {},
      "source": [
        "## Xử lý Screen Size"
      ]
    },
    {
      "cell_type": "code",
      "execution_count": null,
      "metadata": {},
      "outputs": [
        {
          "data": {
            "text/plain": [
              "array(['15.6\"', '14.0\"', '16.0\"', '13.4\"', '17.3\"', '17.0\"', nan, '13.3\"',\n",
              "       '14.5\"', '15.0\"', '10.5\"', '13.5\"', '14.1\"', 'No', '18.0\"',\n",
              "       '15.6\" 4K / UHD', '14.4\"', '11.6\"', '17.3\" 4K / UHD', '13.0\"',\n",
              "       '12.5\"', '12.2\"', '13.9\"', '15.6', '16.1\"', '13\"', '12.3\"',\n",
              "       '12.4\"', '10.1\"', '14\"', '17.3', '14', '12.0\"', '11.0\"', '12.5',\n",
              "       '11.5\"', '8.0\"'], dtype=object)"
            ]
          },
          "metadata": {},
          "output_type": "display_data"
        }
      ],
      "source": [
        "column = df['Screen Size'].unique()\n",
        "column"
      ]
    },
    {
      "cell_type": "code",
      "execution_count": null,
      "metadata": {},
      "outputs": [],
      "source": [
        "def process_screen(SS):\n",
        "  if \"No\" in str(SS):\n",
        "    return np.NaN\n",
        "  elif \"nan\" in str(SS):\n",
        "    return np.NaN\n",
        "  else:\n",
        "    SS = str(SS).split('\"')\n",
        "    SS =  SS[0]\n",
        "    return SS"
      ]
    },
    {
      "cell_type": "code",
      "execution_count": null,
      "metadata": {},
      "outputs": [],
      "source": [
        "df['Screen Size'] = df['Screen Size'].apply(process_screen)"
      ]
    },
    {
      "cell_type": "code",
      "execution_count": null,
      "metadata": {},
      "outputs": [
        {
          "data": {
            "text/plain": [
              "array(['15.6', '14.0', '16.0', '13.4', '17.3', '17.0', nan, '13.3',\n",
              "       '14.5', '15.0', '10.5', '13.5', '14.1', '18.0', '14.4', '11.6',\n",
              "       '13.0', '12.5', '12.2', '13.9', '16.1', '13', '12.3', '12.4',\n",
              "       '10.1', '14', '12.0', '11.0', '11.5', '8.0'], dtype=object)"
            ]
          },
          "metadata": {},
          "output_type": "display_data"
        }
      ],
      "source": [
        "column = df['Screen Size'].unique()\n",
        "column"
      ]
    },
    {
      "cell_type": "markdown",
      "metadata": {},
      "source": [
        "## Xử lý Memory"
      ]
    },
    {
      "cell_type": "code",
      "execution_count": null,
      "metadata": {},
      "outputs": [
        {
          "data": {
            "text/plain": [
              "array(['32GB', '8GB', '16GB', '4GB', '64GB', nan, '12GB',\n",
              "       '16GB LPDDR5 RAM', '6GB', '160GB', '3GB'], dtype=object)"
            ]
          },
          "metadata": {},
          "output_type": "display_data"
        }
      ],
      "source": [
        "column = df['Memory'].unique()\n",
        "column"
      ]
    },
    {
      "cell_type": "code",
      "execution_count": null,
      "metadata": {},
      "outputs": [],
      "source": [
        "def process_Memory(data):\n",
        "  data = str(data)\n",
        "  data = data.split(\"G\")\n",
        "  return data[0]"
      ]
    },
    {
      "cell_type": "code",
      "execution_count": null,
      "metadata": {},
      "outputs": [],
      "source": [
        "df['Memory'] = df['Memory'].apply(process_Memory)"
      ]
    },
    {
      "cell_type": "code",
      "execution_count": null,
      "metadata": {},
      "outputs": [],
      "source": [
        "df['Memory'] = df['Memory'].replace('nan', np.NaN)"
      ]
    },
    {
      "cell_type": "code",
      "execution_count": null,
      "metadata": {},
      "outputs": [
        {
          "data": {
            "text/plain": [
              "array(['32', '8', '16', '4', '64', nan, '12', '6', '160', '3'],\n",
              "      dtype=object)"
            ]
          },
          "metadata": {},
          "output_type": "display_data"
        }
      ],
      "source": [
        "column = df['Memory'].unique()\n",
        "column"
      ]
    },
    {
      "cell_type": "code",
      "execution_count": null,
      "metadata": {},
      "outputs": [],
      "source": [
        "df['Memory'].fillna(0, inplace=True)\n",
        "df['Memory'] = df['Memory'].astype(int)"
      ]
    },
    {
      "cell_type": "markdown",
      "metadata": {},
      "source": [
        "## Xử lý Price"
      ]
    },
    {
      "cell_type": "code",
      "execution_count": null,
      "metadata": {},
      "outputs": [
        {
          "data": {
            "text/plain": [
              "array(['699', '314.99', '329.99', '649.99', '899.99', '799', '1,699.99',\n",
              "       '1,199.99', '379', '979.99', '209.99', '479', '949.99', '2,199.99',\n",
              "       '379.99', '2,119.99', '2,799.99', '1,349.99', '1,289.99',\n",
              "       '1,194.99', '719.99', '413.99', '259.99', '189.99', '629',\n",
              "       '1,549.99', '269.99', '1,399.00', '529.99', '674.99', '679.99',\n",
              "       '1,599.99', '1,299.00', '234.99', '1,649.99', '3,372.99', '729.99',\n",
              "       '2,073.99', '2,458.99', '229.99', '2,756.99', '412.99', '2,654.99',\n",
              "       '2,599.00', '794.99', '899', '799.99', '3,601.99', '399.99',\n",
              "       '1,435.99', '1,299.99', '519.99', '1,399.99', '849.99', '933.99',\n",
              "       '1,654.99', '929.99', '999.99', '1,440.00', '370.99', '3,699.99',\n",
              "       '1,993.99', '3,799.99', '2,089.99', '950.99', '349.99', '749',\n",
              "       '1,338.99', '1,579.99', '539.99', '1,144.99', '1,360.00',\n",
              "       '1,170.00', '555.99', '2,609.99', '1,625.99', '2,799.00', '483.99',\n",
              "       '2,199.00', '1,899.00', '559.99', '2,603.99', '1,099.99',\n",
              "       '4,129.99', '390.99', '1,899.99', '883.99', '479.99', '1,056.99',\n",
              "       '1,829.99', '429.99', '577.99', '859.99', '1,312.99', '1,942.99',\n",
              "       '2,019.99', '1,049.99', '1,489.99', '2,299.99', '1,199.00',\n",
              "       '851.99', '683.99', '1,020.00', '599.99', '409.99', '240.99',\n",
              "       '3,241.99', '1,350.00', '659.99', '484.99', '582.99', '589.99',\n",
              "       '774.99', '1,907.99', '1,538.99', '179.99', '2,699.99', '308.99',\n",
              "       '339.99', '219.99', '380', '1,085.99', '419.99', '1,086.99',\n",
              "       '1,999.00', '3,509.99', '1,891.99', '2,639.99', '927.99', '289.99',\n",
              "       '1,275.00', '389.99', '1,352.00', '1,561.99', '449', '1,699.00',\n",
              "       '488.99', '1,749.00', '615.99', '759.99', '2,099.00', '1,149.00',\n",
              "       '2,082.99', '309.99', '1,270.99', '810', '1,484.99', '499.99',\n",
              "       '374.99', '1,499.99', '291.99', '1,521.99', '1,377.99', '2,723.99',\n",
              "       '239.99', '1,497.99', '1,449.00', '425.99', '1,383.99', '527.99',\n",
              "       '849', '1,232.99', '1,799.99', '733.99', '1,129.00', '1,183.99',\n",
              "       '1,499.00', '319.99', '2,299.00', '247.99', '3,199.99', '254.99',\n",
              "       '2,146.99', '579.99', '321.99', '1,769.99', '99.99', '549.99',\n",
              "       '279.99', '915.99', '937.99', '1,175.99', '781.99', '1,116.99',\n",
              "       '660.99', '658.99', '1,651.99', '1,349.00', '1,161.99', '3,499.00',\n",
              "       '1,149.99', '536.99', '499', '303.99', '1,529.99', '887.99',\n",
              "       '639.99', '2,399.99', '778.99', '454.99', '669.99', '220.99',\n",
              "       '1,098.99', '2,479.99', '245.99', '3,799.00', '699.99', '452.99',\n",
              "       '2,693.99', '424.99', '844.99', '445.99', '647.99', '430.99',\n",
              "       '1,219.99', '2,166.99', '3,599.99', '1,339.99', '2,929.99',\n",
              "       '301.99', '999', '1,629.99', '416.99', '366.99', '1,062.99',\n",
              "       '803.99', '3,717.99', '923.99', '625.99', '159.99', '1,999.99',\n",
              "       '569.99', '880', '386.99', '449.99', '531.99', '1,684.00',\n",
              "       '4,499.99', '889.99', '702.99', '359.99', '510.99', '2,064.99',\n",
              "       '980.99', '489.99', '455.99', '199.99', '585.99', '264.99',\n",
              "       '756.99', '949', '1,348.99', '372.99', '350.99', '818.99',\n",
              "       '1,939.99', '2,349.00', '1,105.00', '1,900.99', '605.99', '500.99',\n",
              "       '981.99', '296.99', '861.99', '710.99', '629.99', '1,593.99',\n",
              "       '662.99', '695.99', '2,607.99', '257.99', '302.99', '2,340.00',\n",
              "       '299.99', '1,843.99', '2,229.99', '393.99', '948.99', '1,873.99',\n",
              "       '711.99', '816.99', '2,628.99', '408.99', '391.99', '599',\n",
              "       '2,699.00', '549', '1,133.99', '984.99', '3,999.99', '235.99',\n",
              "       '509.99', '418.99', '627.99', '1,746.99', '914.99', '1,599.00',\n",
              "       '1,159.99', '347.99', '538.99', '2,005.99', '962.99', '1,729.99',\n",
              "       '691.99', '361.99', '284.99', '405.99', '1,172.99', '973.99',\n",
              "       '1,749.99', '1,345.99', '1,818.99', '1,783.99', '3,997.99',\n",
              "       '342.99', '502.99', '2,399.00', '1,156.99', '738.99', '974.99',\n",
              "       '1,758.99', '204.99', '1,711.99', '540.99', '2,198.00', '285.99',\n",
              "       '2,179.99', '494.99', '340.99', '387.99', '1,063.99', '3,894.99',\n",
              "       '1,449.99', '839.99', '3,251.99', '584.99', '649', '614.99',\n",
              "       '801.99', '542.99', '1,576.99', '969.99', '2,000.00', '269', '399',\n",
              "       '1,639.99', '315.99', '344.99', '1,829.00', '985.99', '2,994.99',\n",
              "       '485.99', '439.99', '504.99', '446.99', '421.99', '1,179.99',\n",
              "       '2,899.00', '1,609.99', '365.99', '3,959.99', '1,478.99',\n",
              "       '1,455.99', '939.99', '318.99', '475.99', '593.99', '260.99',\n",
              "       '759', '869.99', '753.99', '313.99', '169.99', '438.99', '737.99',\n",
              "       '689.99', '1,799.00', '1,607.99', '453.99', '624.99', '1,708.99',\n",
              "       '2,060.99', '595.99', '3,029.00', '238.99', '1,220.99', '2,397.99',\n",
              "       '293.99', '466.99', '524.99', '457.99', '274.99', '642.99',\n",
              "       '444.99', '237.99', '1,650.99', '813.99', '2,349.99', '1,039.99',\n",
              "       '2,155.99', '930.99', '989.99', '280.99', '709.99', '891.99',\n",
              "       '672.99', '1,479.00', '676.99', '354.99', '1,849.99', '2,620.99',\n",
              "       '1,713.99', '784.99', '332.99', '1,759.99', '749.99', '2,808.99',\n",
              "       '2,356.99', '829.99', '1,619.99', '906.99', '3,514.99', '369.99',\n",
              "       '184.99', '394.99', '371.99', '648.99', '1,057.99', '2,561.99',\n",
              "       '3,617.99', '1,515.99', '1,813.00', '741.99', '1,066.99', '675.99',\n",
              "       '2,101.99', '751.99', '609.99', '335.99', '1,544.99', '341.99',\n",
              "       '700.99', '210.99', '472.99', '1,641.99', '888.99', '690.99',\n",
              "       '743.99', '357.99', '3,039.99', '945.99', '850', '2,902.99',\n",
              "       '149.99', '2,197.99', '1,329.99', '988', '966.99', '634.99',\n",
              "       '2,849.00', '123.99', '282.99', '3,399.99', '1,530.99', '414.99',\n",
              "       '1,837.99', '736.99', '666.99', '2,049.99', '266.99', '1,079.99',\n",
              "       '1,200.99', '574.99', '476.99', '2,067.99', '797.99', '1,785.99',\n",
              "       '645.99', '963.99', '1,267.99', '2,519.99', '1,719.00', '352.99',\n",
              "       '913.99', '508.99', '415.99', '722.99', '909.99', '362.99',\n",
              "       '249.99', '306.99', '1,069.99', '750', '808.99', '447.99',\n",
              "       '2,281.99', '1,523.99', '1,325.99', '1,040.99', '2,899.99',\n",
              "       '826.99', '619.99', '3,151.99', '866.99', '807', '789.99',\n",
              "       '403.99', '2,437.00', '174.99', '322.99', '459.99', '1,823.99',\n",
              "       '493.99', '214.99', '678.99', '462.99', '1,163.99', '1,456.99',\n",
              "       '570.99', '1,776.99', '1,923.99', '2,188.99', '1,336.99', '323.99',\n",
              "       '3,451.99', '558.99', '1,127.99', '1,253.99', '739.99', '1,254.99',\n",
              "       '770.99', '1,959.00', '287.99', '2,099.99', '328.99', '721.99',\n",
              "       '1,244.99', '294.99', '1,023.99', '1,019.99', '384.99', '2,729.99',\n",
              "       '1,242.99', '478.99', '3,553.99', '1,774.99', '4,599.99',\n",
              "       '2,095.99', '242.99', '1,157.99', '2,054.99', '795.99', '942.99',\n",
              "       '1,154.99', '76.99', '4,987.99', '382.99', '3,879.99', '2,499.99',\n",
              "       '546.99', '1,021.99', '398.99', '787.99', '581.99', '1,367.99',\n",
              "       '2,134.99', '470.99', '754.99', '363.99', '959.99', '1,719.99',\n",
              "       '870.99', '671.99', '1,091.99', '364.99', '1,406.99', '521.99',\n",
              "       '1,728.99', '2,468.99', '796.99', '495.99', '461.99', '442.99',\n",
              "       '3,049.99', '1,657.99', '334.99', '1,769.00', '1,043.99', '970.99',\n",
              "       '407.99', '934.99', '1,280.00', '1,096.99', '932.99', '1,423.99',\n",
              "       '324.99', '3,499.99', '433.99', '1,534.99', '1,286.99', '469.99',\n",
              "       '1,419.99', '1,520.99', '1,185.99', '703.99', '2,149.99', '441.99',\n",
              "       '757.99', '346.99', '823.99', '353.99', '2,172.99', '327.99',\n",
              "       '2,097.99', '1,794.99', '1,026.99', '3,641.99', '1,429.99',\n",
              "       '2,598.99', '969', '8,999.99', '919.99', '1,777.99', '1,852.99',\n",
              "       '1,516.99', '2,627.99', '1,474.99', '1,042.99', '2,923.99',\n",
              "       '3,190.99', '1,200.00', '1,439.99', '819.99', '1,821.99', '779.99',\n",
              "       '2,913.99', '1,876.99', '1,151.99', '1,072.99', '1,029.99',\n",
              "       '1,870.00', '1,319.99', '2,679.99', '744.99', '724.99', '879.99',\n",
              "       '1,376.99', '963', '809', '1,658.99', '2,118.99', '109.99',\n",
              "       '2,050.99', '1,113.99', '1,445.00', '1,933.99', '890.99',\n",
              "       '1,112.99', '762.99', '1,216.99', '655.99', '1,028.00', '2,372.99',\n",
              "       '1,624.99', '4,388.99', '1,512.99', '1,095.99', '1,392.99',\n",
              "       '1,110.99', '2,464.99', '2,008.99', '1,343.99', '1,979.99',\n",
              "       '1,688.99', '2,429.99', '2,158.99', '2,490.99', '1,925.99',\n",
              "       '1,693.99', '1,519.00', '1,342.99', '1,509.00', '2,314.99',\n",
              "       '995.99', '2,367.99', '1,034.99', '1,429.00', '769.99', '518.99',\n",
              "       '515.99', '654.99', '563.99', '164.99', '377.99', '940.99',\n",
              "       '805.99', '304.99', '550.99', '773.99', '355.99', '343.99',\n",
              "       '119.99', '252.99', '268.99', '718.99', '492.99', '211.99',\n",
              "       '800.99', '129.99', '333.99', '388.99', '198.99', '670.99',\n",
              "       '1,379.00', '1,249.00', '2,600.99', '665', '696.99', '2,398.99',\n",
              "       '116.99', '523.99', '1,541.99', '1,093.99', '705.99', '1,531.99',\n",
              "       '776.99', '139.99', '592.99', '244.99', '94.99', '95.99',\n",
              "       '1,370.99', '132.99', '1,583.99', '946.99', '1,139.99', '305.99',\n",
              "       '1,070.99', '297.99', '1,249.99', '968', '755.99', '616.99',\n",
              "       '3,215.99', '138.99', '395.99', '955.99', '1,255.99', '1,959.99',\n",
              "       '786.99', '2,087.99', '2,747.99', '6,196.99', '1,239.99',\n",
              "       '2,557.99', '2,318.99', '1,089.99', '1,858.99', '1,260.00',\n",
              "       '2,124.99', '843.99', '902.99', '681.99', '3,529.99', '431.99',\n",
              "       '1,084.99', '2,249.99', '900', '2,239.99', '1,359.99', '2,991.99',\n",
              "       '1,318.99', '1,350.99', '800', '1,459.99', '1,621.99', '514.99',\n",
              "       '255.99', '2,411.99', '1,160.99', '1,031.99', '1,061.99',\n",
              "       '1,104.99', '2,294.99', '935.99', '1,475.99', '1,004.99',\n",
              "       '3,349.00', '2,115.99', '734.99', '1,099.00', '3,158.99',\n",
              "       '1,119.99', '1,747.99', '1,839.99', '894', '1,214.99', '2,515.99',\n",
              "       '1,566.99', '1,920.00', '2,800.00', '465.99', '2,992.99', '824.99',\n",
              "       '3,521.99', '192.99', '1,575.00', '1,800.00', '1,379.99',\n",
              "       '3,927.99', '1,279.00', '1,446.99', '233.99', '1,465.99',\n",
              "       '1,470.99', '1,589.99', '1,574.99', '1,833.99', '1,770.99',\n",
              "       '1,014.99', '1,570.99', '1,789.99', '1,620.99', '1,908.99',\n",
              "       '1,864.99', '2,274.99', '1,750.99', '2,164.99', '1,661.99',\n",
              "       '1,697.99', '1,568.99', '2,520.99', '3,070.99', '44.99',\n",
              "       '2,669.99', '1,592.99', '1,077.99', '1,949.99', '587.99',\n",
              "       '2,483.99', '406.99', '1,443.99', '1,977.99', '2,467.99',\n",
              "       '1,686.99', '1,789.00', '2,809.99', '2,198.99', '1,522.99',\n",
              "       '1,878.99', '1,670.99', '2,252.99', '2,026.99', '1,152.99',\n",
              "       '1,169.99', '1,436.99', '59.99', '3,854.99', '1,142.99',\n",
              "       '1,659.00', '1,053.99', '1,600.99', '3,294.99', '812.99',\n",
              "       '2,369.99', '1,610.99', '1,779.00', '1,730.99', '1,605.99',\n",
              "       '3,143.99', '1,674.99', '1,929.99', '2,339.00', '918.99',\n",
              "       '1,779.99', '2,939.99', '1,273.99', '2,069.99', '2,379.00',\n",
              "       '2,641.99', '368.99', '1,427.99', '1,762.99', '1,679.99',\n",
              "       '2,020.99', '1,083.99', '1,421.99', '613.99', '2,846.99', '534.99',\n",
              "       '1,381.99', '1,690.99', '3,528.99', '1,005.99', '1,205.99',\n",
              "       '2,442.99', '2,032.99', '1,727.99', '1,767.99', '1,956.99',\n",
              "       '1,827.99', '440.99', '2,696.99', '1,846.99', '1,188.99', '497.99',\n",
              "       '4,264.99', '1,981.99', '2,420.99', '1,542.99', '2,949.99',\n",
              "       '3,629.99', '2,444.99', '1,924.99', '3,396.99', '1,965.99',\n",
              "       '5,199.99', '1,051.99', '4,199.99', '785.99', '1,556.99',\n",
              "       '1,240.99', '1,327.99', '1,989.99', '1,630.99', '2,880.99',\n",
              "       '1,909.99', '1,519.99', '2,114.99', '924.99', '1,527.99',\n",
              "       '1,226.99', '893.99', '1,639.00', '1,613.99', '652.99', '1,228.99',\n",
              "       '2,623.99', '1,314.99', '1,262.99', '2,350.99', '1,909.00',\n",
              "       '1,447.99', '1,669.99', '1,677.99', '2,092.99', '2,744.99',\n",
              "       '1,594.99', '2,193.99', '2,029.99', '561.99', '1,108.99',\n",
              "       '1,732.99', '1,819.99', '1,628.99', '1,035.99', '746.99',\n",
              "       '1,806.99', '1,656.99', '2,233.99', '3,298.99', '965.99'],\n",
              "      dtype=object)"
            ]
          },
          "metadata": {},
          "output_type": "display_data"
        }
      ],
      "source": [
        "column = df['price'].unique()\n",
        "column"
      ]
    },
    {
      "cell_type": "code",
      "execution_count": null,
      "metadata": {},
      "outputs": [],
      "source": [
        "def process_price(data):\n",
        "  data = str(data).replace(\",\", \"\")\n",
        "  return data"
      ]
    },
    {
      "cell_type": "code",
      "execution_count": null,
      "metadata": {},
      "outputs": [],
      "source": [
        "df['price'] = df['price'].apply(process_price)"
      ]
    },
    {
      "cell_type": "code",
      "execution_count": null,
      "metadata": {},
      "outputs": [],
      "source": [
        "df['price'] = df['price'].astype(float)"
      ]
    },
    {
      "cell_type": "code",
      "execution_count": null,
      "metadata": {},
      "outputs": [
        {
          "name": "stdout",
          "output_type": "stream",
          "text": [
            "<class 'pandas.core.series.Series'>\n",
            "RangeIndex: 1928 entries, 0 to 1927\n",
            "Series name: price\n",
            "Non-Null Count  Dtype  \n",
            "--------------  -----  \n",
            "1928 non-null   float64\n",
            "dtypes: float64(1)\n",
            "memory usage: 15.2 KB\n"
          ]
        }
      ],
      "source": [
        "df['price'].info()"
      ]
    },
    {
      "cell_type": "markdown",
      "metadata": {},
      "source": [
        "## Xử lý Storage"
      ]
    },
    {
      "cell_type": "code",
      "execution_count": null,
      "metadata": {},
      "outputs": [
        {
          "data": {
            "text/plain": [
              "array(['1 TB PCIe', '256 GB', '256 GB PCIe', '512 GB PCIe', '512 GB',\n",
              "       '64 GB', '2 TB PCIe', '128 GB', '1 TB', nan, '3 TB', '32 GB',\n",
              "       '128 GB PCIe', '250 GB', '500 GB PCIe', '2 TB', '500 GB', '8 GB',\n",
              "       '32 GB Flash Memory', '32 GB Flash', '180 GB',\n",
              "       '128GB Flash Memory', '256GB PCIe 4.0 SSD', '16 GB', '1000', 'No',\n",
              "       '512', '480', 'Flash Memory Capacity:   32 GB', '64 GB Flash',\n",
              "       '512GB M.2 SSD', '120 GB', '256', '240 GB', '512GB PCIe SSD'],\n",
              "      dtype=object)"
            ]
          },
          "metadata": {},
          "output_type": "display_data"
        }
      ],
      "source": [
        "column = df['Storage'].unique()\n",
        "column"
      ]
    },
    {
      "cell_type": "code",
      "execution_count": null,
      "metadata": {},
      "outputs": [],
      "source": [
        "import re\n",
        "def process_storage(data):\n",
        "  data = str(data)\n",
        "  if \"TB\" in data:\n",
        "    data = data.split('TB')\n",
        "    data = re.sub(r'\\D', '', data[0])\n",
        "    data = int(data) * 1024\n",
        "    return data\n",
        "  elif \"GB\" in data:\n",
        "    data = data.split('GB')\n",
        "    data = re.sub(r'\\D', '', data[0])\n",
        "    return data\n",
        "  elif \"No\" in data:\n",
        "    return 0\n",
        "  else:\n",
        "    return data"
      ]
    },
    {
      "cell_type": "code",
      "execution_count": null,
      "metadata": {},
      "outputs": [],
      "source": [
        "df['Storage'].fillna(0, inplace=True)\n",
        "df['Storage'].replace('No', 0, inplace=True)\n",
        "df['Storage'] = df['Storage'].apply(process_storage)"
      ]
    },
    {
      "cell_type": "code",
      "execution_count": null,
      "metadata": {},
      "outputs": [],
      "source": [
        "df['Storage'] = df['Storage'].astype(int)"
      ]
    },
    {
      "cell_type": "code",
      "execution_count": null,
      "metadata": {},
      "outputs": [
        {
          "data": {
            "text/plain": [
              "array([1024,  256,  512,   64, 2048,  128,    0, 3072,   32,  250,  500,\n",
              "          8,  180,   16, 1000,  480,  120,  240])"
            ]
          },
          "metadata": {},
          "output_type": "display_data"
        }
      ],
      "source": [
        "column = df['Storage'].unique()\n",
        "column"
      ]
    },
    {
      "cell_type": "markdown",
      "metadata": {},
      "source": [
        "## Xử lý Backlit Keyboard"
      ]
    },
    {
      "cell_type": "code",
      "execution_count": null,
      "metadata": {},
      "outputs": [
        {
          "data": {
            "text/plain": [
              "array(['Backlit', nan, 'RGB', 'Non-backlit', 'White Light', 'No',\n",
              "       'Full Size'], dtype=object)"
            ]
          },
          "metadata": {},
          "output_type": "display_data"
        }
      ],
      "source": [
        "column = df['Backlit Keyboard'].unique()\n",
        "column"
      ]
    },
    {
      "cell_type": "code",
      "execution_count": null,
      "metadata": {},
      "outputs": [],
      "source": [
        "df['Backlit Keyboard'].replace(\"No\", \"Non-backlit\", inplace = True)\n",
        "df['Backlit Keyboard'].fillna(\"Non-backlit\", inplace = True)"
      ]
    },
    {
      "cell_type": "code",
      "execution_count": null,
      "metadata": {},
      "outputs": [
        {
          "data": {
            "text/plain": [
              "array(['Backlit', 'Non-backlit', 'RGB', 'White Light', 'Full Size'],\n",
              "      dtype=object)"
            ]
          },
          "metadata": {},
          "output_type": "display_data"
        }
      ],
      "source": [
        "column = df['Backlit Keyboard'].unique()\n",
        "column"
      ]
    },
    {
      "cell_type": "markdown",
      "metadata": {},
      "source": [
        "## Xử lý Touchscreen"
      ]
    },
    {
      "cell_type": "code",
      "execution_count": null,
      "metadata": {},
      "outputs": [
        {
          "data": {
            "text/plain": [
              "array(['No', 'Yes', nan, 'NO_TOUCH', 'Yes (10-point multi-touch)'],\n",
              "      dtype=object)"
            ]
          },
          "metadata": {},
          "output_type": "display_data"
        }
      ],
      "source": [
        "column = df['Touchscreen'].unique()\n",
        "column"
      ]
    },
    {
      "cell_type": "code",
      "execution_count": null,
      "metadata": {},
      "outputs": [],
      "source": [
        "df['Touchscreen'].replace(\"NO_TOUCH\", \"No\", inplace = True)\n",
        "df['Touchscreen'].replace(\"Yes (10-point multi-touch)\", \"Yes\", inplace = True)\n",
        "df['Touchscreen'].fillna('No', inplace = True)"
      ]
    },
    {
      "cell_type": "markdown",
      "metadata": {},
      "source": [
        "## Xử lý Webcam"
      ]
    },
    {
      "cell_type": "code",
      "execution_count": null,
      "metadata": {},
      "outputs": [
        {
          "data": {
            "text/plain": [
              "array(['Yes', nan, '720P HD', 'HD camera with IR function',\n",
              "       '1080p Full HD front-facing camera\\r\\n8 MP 1080p Full HD rear- facing camera',\n",
              "       'HD type (30fps@720p)',\n",
              "       'Full HD front-facing Surface Studio Camera\\r\\n1080p Full HD camera with wide field of view',\n",
              "       '1080p FHD Webcam', 'Yes, User-Facing: 1080p',\n",
              "       'HP True Vision 720p HD camera with temporal noise reduction and integrated dual array digital microphones',\n",
              "       'HD type 720p', '720p HD camera with temporal noise reduction',\n",
              "       '720p HD camera;8 MP camera (rear-facing)', '720p HD camera',\n",
              "       '5MP IR camera', 'Yes - 4K (rear), 1080p (front)', 'No', '720p HD',\n",
              "       '5MP', '5MP camera', '720p HD Camera', '720p HD Webcam',\n",
              "       'HP Webcam', '720P HD camera', 'HD Camera',\n",
              "       'HP TrueVision HD Camera', 'IR HD',\n",
              "       'HP TrueVision HD Camera with integrated dual array digital microphone',\n",
              "       'HD Camera with integrated dual array digital microphone',\n",
              "       '1080p 30 fps FHD camera + 720p 60 fps IR HD camera\\r\\nDigital-array microphones',\n",
              "       'HP Wide Vision HD Camera with integrated dual array digital microphone',\n",
              "       '5.0MP front-facing camera with 1080p HD video \\r\\n8.0MP rear-facing auto-focus camera with 1080p HD video',\n",
              "       'User-Facing: 5 MP'], dtype=object)"
            ]
          },
          "metadata": {},
          "output_type": "display_data"
        }
      ],
      "source": [
        "column = df['Webcam'].unique()\n",
        "column"
      ]
    },
    {
      "cell_type": "code",
      "execution_count": null,
      "metadata": {},
      "outputs": [],
      "source": [
        "import re\n",
        "def process_webcam(data):\n",
        "  data = str(data)\n",
        "  if \"No\" in data:\n",
        "    return \"No\"\n",
        "  else:\n",
        "    return \"Yes\""
      ]
    },
    {
      "cell_type": "code",
      "execution_count": null,
      "metadata": {},
      "outputs": [],
      "source": [
        "df['Webcam'] = df['Webcam'].fillna(\"No\")\n",
        "df['Webcam'] = df['Webcam'].apply(process_webcam)"
      ]
    },
    {
      "cell_type": "markdown",
      "metadata": {},
      "source": [
        "## Xử lý CPU speed"
      ]
    },
    {
      "cell_type": "code",
      "execution_count": null,
      "metadata": {},
      "outputs": [
        {
          "data": {
            "text/plain": [
              "array(['13620H (2.40GHz)', '8665U (1.90GHz)', '1315U (1.20GHz)',\n",
              "       '7730U (2.00GHz)', '1280P (1.80GHz)', '13900HX (2.20GHz)',\n",
              "       '13700H (2.40GHz)', '1215U (1.20GHz)', '7735U (2.70GHz)',\n",
              "       '1.60GHz', '1195G7 (2.90GHz)', '7945HX (2.50GHz)',\n",
              "       '1335U (1.30GHz)', '13980HX (2.20GHz)', '13700HX (2.10GHz)',\n",
              "       '7735HS (3.20GHz)', '13420H (2.10GHz)', '8350U (1.70GHz)',\n",
              "       'N4020 (1.10GHz)', '5500U (2.10GHz)', '12800HX (2.00GHz)',\n",
              "       '1235U (1.30GHz)', '7530U (2.00GHz)', '8650U (1.90GHz)',\n",
              "       '8365U (1.60GHz)', '13900H (2.60GHz)', '11400H (2.70GHz)',\n",
              "       '12700H (2.30GHz)', 'N4500 (1.10GHz)', '2.60GHz',\n",
              "       '1255U (1.70GHz)', '11800H (2.30GHz)', '7945HX3D (2.30GHz)',\n",
              "       '1340P', nan, '6800HS (3.20GHz)', '2.30GHz', '12450H (2.00GHz)',\n",
              "       '1.90GHz', '7940HS (4.00GHz)', '2.5GHz', '5825U (2.00GHz)',\n",
              "       '12500H (2.50GHz)', '8505 (1.20GHz)', '1360P (2.20GHz)',\n",
              "       '5350U (1.80GHz)', '3.00GHz', '13500H (2.60GHz)', '1.70GHz',\n",
              "       '12650H (2.30GHz)', '1355U (1.70GHz)', '7840HS (3.80GHz)',\n",
              "       '1260P (2.10GHz)', '6800H (3.20GHz)', 'N5100 (1.10GHz)',\n",
              "       '9750H (2.60GHz)', '4980U (2.00GHz)', '8550U (1.80GHz)',\n",
              "       '6900HS (3.30GHz)', '1185G7 (3.00GHz)', '1.10GHz',\n",
              "       '6300U (2.40GHz)', '3.30GHz', '1155G7 (2.50GHz)',\n",
              "       '12900H (2.50GHz)', '13950HX (2.20GHz)', '7300U (2.60GHz)',\n",
              "       '1265U (1.80GHz)', '1240P (1.70GHz)', '5600H (3.30GHz)',\n",
              "       '1340P (1.90GHz)', '6900HX (3.30GHz)', '6600U (2.60GHz)',\n",
              "       '1165G7 (2.80GHz)', '4000+', '7600U (2.80GHz)', '1135G7 (2.40GHz)',\n",
              "       '3.8GHz', '4600M (2.90GHz)', '13800H (2.50GHz)', '1365U (1.8 GHz)',\n",
              "       '1.00GHz', '7820HQ (2.90GHz)', '1.80GHz', '1.30GHz',\n",
              "       '7640HS (4.30GHz)', '5625U (2.30GHz)', '2.00GHz', '2.70GHz',\n",
              "       '5900HX (3.30GHz)', '5250U (1.60GHz)', '3.49 GHz', '800 kHz',\n",
              "       '1245U (1.60GHz)', '3.4GHz', '8265U (1.60GHz)', '2.10GHz',\n",
              "       '2.40GHz', '7700HQ (2.80GHz)', '12900HK (2.50GHz)',\n",
              "       '8250U (1.60GHz)', '10100Y (1.30 GHz)', 'E3-1505M v6 (3.0GHz)',\n",
              "       '3.10GHz', '1115G4 (3.00GHz)', '1145G7 (2.60GHz)',\n",
              "       'E-2276M (2.80GHz)', '9400H (2.50GHz)', '6200U (2.30GHz)',\n",
              "       '8850H (2.60GHz)', '3.5GHz', '8565U (1.80GHz)', '9850H (2.60GHz)',\n",
              "       'N100 (100 MHz)', '2.90GHz', '2.20GHz', '6850U (2.70GHz)',\n",
              "       '3250U (2.60GHz)', '2.0 GHz', '2.80GHz', '5700U (1.80GHz)',\n",
              "       '3.70GHz', 'E3-1505M v5 (2.80GHz)', '10610U (1.80GHz)',\n",
              "       '10210U (1.60GHz)', '1035G1 (1.00GHz)', '6820HQ (2.70GHz)',\n",
              "       '5300U (2.30GHz)', '5600U (2.60GHz)', '12900HX (2.30GHz)',\n",
              "       'N5000 (1.10GHz)', '1.20GHz',\n",
              "       'Up to 4.4 GHz Performance Dual-Core', '6700HQ (2.60GHz)',\n",
              "       '6920HQ (2.90GHz)', 'MT8183C (2.00GHz)', '5650U (2.30GHz)',\n",
              "       '1.6 GHz', '9880H (2.30GHz)', '7200U (2.50GHz)',\n",
              "       '11370H (3.30GHz)', '5200U (2.20GHz)', '1365U (1.80GHz)',\n",
              "       '10310U (1.70GHz)', '6500U (2.50GHz)', '4650U (2.10GHz)',\n",
              "       '7520U (4.80 GHz)', '11300H (3.10 GHz)', 'N4000 (1.10GHz)',\n",
              "       '2.50 GHz', '3.60GHz', '8145U (2.10GHz)', '3015Ce (1.20GHz)',\n",
              "       'E3-1545M v5 (2.90GHz)', '1.8 GHz',\n",
              "       'Up to 3.6 GHz Efficiency 8-Core', 'E-2176M (2.70GHz)',\n",
              "       '1235U(3.030GHz)', '4810MQ (2.80GHz)', '6650U (2.90GHz)',\n",
              "       '3.20GHz', '10980HK (2.40GHz)', '5800H (3.20GHz)',\n",
              "       '1270P (2.20GHz)', '4200U (1.60GHz)', '1125G4 (2.00GHz)',\n",
              "       '3.8 GHz', '8400H (2.50GHz)', '10750H (2.60GHz)',\n",
              "       '1345U (1.6 GHz)', '8350U (1.7GHz)', '5980HS (3.00GHz)',\n",
              "       '7440HQ (2.80GHz)', '4.3GHz', '8300H (2.30GHz)',\n",
              "       'MT8183 (2.00GHz)', '3.40GHz', '1110G4 (2.50GHz)',\n",
              "       'N3160 (1.60GHz)', 'N6000 (1.10GHz)', '12800H (2.40GHz)',\n",
              "       '5500U (2.40GHz)', '2.8 GHz', '4.0GHz', '10850H (2.70GHz)',\n",
              "       '4680U (2.20GHz)', '4600U (2.10GHz)', 'i7-6820HQ (2.7GHz)',\n",
              "       'i5-6200U (2.3GHz)', '6820HQ (2.7GHz)', '6300HQ (2.30GHz)',\n",
              "       '6600U (2.6GHz)', '6300U (2.4GHz)', '6200U (2.3GHz)',\n",
              "       '6440HQ (2.6GHz)', '3500U (2.10GHz)', '4800MQ (2.70GHz)',\n",
              "       'N3350 (1.1GHz)', 'A4-9120C (1.60GHz)', '1370P (1.90GHz)',\n",
              "       '1140G7 (1.80GHz)', '8950HK (2.90GHz)', 'MT8173C (2.1GHz)',\n",
              "       '4305U (2.20GHz)', 'E3-1535M v5 (2.90GHz)', '4310U (2.00GHz)',\n",
              "       'N4120 (1.10GHz)', '4710MQ (2.50GHz)', '9980HK (2.40GHz)',\n",
              "       '1035G7 (1.20GHz)', '1065G7 (1.30GHz)', '8750H (2.20GHz)',\n",
              "       '10710U (1.10GHz)', '1035G4 (1.10GHz)', 'E-2186M (2.90GHz)',\n",
              "       '7535HS (3.30GHz)', '5.16GHz', '4340M (2.90GHz)',\n",
              "       '8130U (2.20GHz)', '4300U (1.90GHz)', '4 GHz', '13850HX (2.10GHz)',\n",
              "       '1370P'], dtype=object)"
            ]
          },
          "metadata": {},
          "output_type": "display_data"
        }
      ],
      "source": [
        "column = df['CPU Speed'].unique()\n",
        "column"
      ]
    },
    {
      "cell_type": "code",
      "execution_count": null,
      "metadata": {},
      "outputs": [],
      "source": [
        "def process_webcam(data):\n",
        "  data = str(data)\n",
        "  if (\"(\" and \")\") in data:\n",
        "    data = data.split(\"(\")\n",
        "    data[1] = data[1].replace(\")\", \"\")\n",
        "    data[0] = data[0].replace(\" \", \"\")\n",
        "    return data\n",
        "  elif \"GHz\" in data or \"Ghz\" in data or \"kHz\" in data or \"Mhz\" in data:\n",
        "    newdata = [\"NotAvai\", data]\n",
        "    return newdata\n",
        "  else:\n",
        "    newdata = [data, \"NotAvai\"]\n",
        "    return newdata"
      ]
    },
    {
      "cell_type": "code",
      "execution_count": null,
      "metadata": {},
      "outputs": [
        {
          "data": {
            "text/plain": [
              "0       [13620H, 2.40GHz]\n",
              "1        [8665U, 1.90GHz]\n",
              "2        [1315U, 1.20GHz]\n",
              "3        [7730U, 2.00GHz]\n",
              "4       [13620H, 2.40GHz]\n",
              "              ...        \n",
              "1923       [nan, NotAvai]\n",
              "1924       [nan, NotAvai]\n",
              "1925       [nan, NotAvai]\n",
              "1926       [nan, NotAvai]\n",
              "1927       [nan, NotAvai]\n",
              "Name: CPU Speed, Length: 1928, dtype: object"
            ]
          },
          "metadata": {},
          "output_type": "display_data"
        }
      ],
      "source": [
        "newdata = df['CPU Speed'].apply(process_webcam)\n",
        "newdata"
      ]
    },
    {
      "cell_type": "code",
      "execution_count": null,
      "metadata": {},
      "outputs": [
        {
          "data": {
            "text/plain": [
              "0      [13620H, 2.40GHz]\n",
              "1       [8665U, 1.90GHz]\n",
              "2       [1315U, 1.20GHz]\n",
              "3       [7730U, 2.00GHz]\n",
              "4      [13620H, 2.40GHz]\n",
              "5       [1280P, 1.80GHz]\n",
              "6     [13900HX, 2.20GHz]\n",
              "7      [13700H, 2.40GHz]\n",
              "8       [1215U, 1.20GHz]\n",
              "9       [7735U, 2.70GHz]\n",
              "10    [NotAvai, 1.60GHz]\n",
              "11     [1195G7, 2.90GHz]\n",
              "12     [13620H, 2.40GHz]\n",
              "13      [8665U, 1.90GHz]\n",
              "14     [7945HX, 2.50GHz]\n",
              "15      [1335U, 1.30GHz]\n",
              "16    [13980HX, 2.20GHz]\n",
              "17    [13900HX, 2.20GHz]\n",
              "18    [13700HX, 2.10GHz]\n",
              "19    [13900HX, 2.20GHz]\n",
              "Name: CPU Speed, dtype: object"
            ]
          },
          "metadata": {},
          "output_type": "display_data"
        }
      ],
      "source": [
        "newdata.head(20)"
      ]
    },
    {
      "cell_type": "code",
      "execution_count": null,
      "metadata": {},
      "outputs": [],
      "source": [
        "# Tạo DataFrame từ danh sách b\n",
        "df['CPU model'] = [item[0] for item in newdata]\n",
        "df['CPU speed'] = [item[1] for item in newdata]"
      ]
    },
    {
      "cell_type": "code",
      "execution_count": null,
      "metadata": {},
      "outputs": [
        {
          "data": {
            "text/plain": [
              "array(['13620H', '8665U', '1315U', '7730U', '1280P', '13900HX', '13700H',\n",
              "       '1215U', '7735U', 'NotAvai', '1195G7', '7945HX', '1335U',\n",
              "       '13980HX', '13700HX', '7735HS', '13420H', '8350U', 'N4020',\n",
              "       '5500U', '12800HX', '1235U', '7530U', '8650U', '8365U', '13900H',\n",
              "       '11400H', '12700H', 'N4500', '1255U', '11800H', '7945HX3D',\n",
              "       '1340P', 'nan', '6800HS', '12450H', '7940HS', '5825U', '12500H',\n",
              "       '8505', '1360P', '5350U', '13500H', '12650H', '1355U', '7840HS',\n",
              "       '1260P', '6800H', 'N5100', '9750H', '4980U', '8550U', '6900HS',\n",
              "       '1185G7', '6300U', '1155G7', '12900H', '13950HX', '7300U', '1265U',\n",
              "       '1240P', '5600H', '6900HX', '6600U', '1165G7', '4000+', '7600U',\n",
              "       '1135G7', '4600M', '13800H', '1365U', '7820HQ', '7640HS', '5625U',\n",
              "       '5900HX', '5250U', '1245U', '8265U', '7700HQ', '12900HK', '8250U',\n",
              "       '10100Y', 'E3-1505Mv6', '1115G4', '1145G7', 'E-2276M', '9400H',\n",
              "       '6200U', '8850H', '8565U', '9850H', 'N100', '6850U', '3250U',\n",
              "       '5700U', 'E3-1505Mv5', '10610U', '10210U', '1035G1', '6820HQ',\n",
              "       '5300U', '5600U', '12900HX', 'N5000', '6700HQ', '6920HQ',\n",
              "       'MT8183C', '5650U', '9880H', '7200U', '11370H', '5200U', '10310U',\n",
              "       '6500U', '4650U', '7520U', '11300H', 'N4000', '8145U', '3015Ce',\n",
              "       'E3-1545Mv5', 'E-2176M', '4810MQ', '6650U', '10980HK', '5800H',\n",
              "       '1270P', '4200U', '1125G4', '8400H', '10750H', '1345U', '5980HS',\n",
              "       '7440HQ', '8300H', 'MT8183', '1110G4', 'N3160', 'N6000', '12800H',\n",
              "       '10850H', '4680U', '4600U', 'i7-6820HQ', 'i5-6200U', '6300HQ',\n",
              "       '6440HQ', '3500U', '4800MQ', 'N3350', 'A4-9120C', '1370P',\n",
              "       '1140G7', '8950HK', 'MT8173C', '4305U', 'E3-1535Mv5', '4310U',\n",
              "       'N4120', '4710MQ', '9980HK', '1035G7', '1065G7', '8750H', '10710U',\n",
              "       '1035G4', 'E-2186M', '7535HS', '4340M', '8130U', '4300U',\n",
              "       '13850HX'], dtype=object)"
            ]
          },
          "metadata": {},
          "output_type": "display_data"
        }
      ],
      "source": [
        "column = df['CPU model'].unique()\n",
        "column"
      ]
    },
    {
      "cell_type": "code",
      "execution_count": null,
      "metadata": {},
      "outputs": [
        {
          "data": {
            "text/plain": [
              "array(['2.40GHz', '1.90GHz', '1.20GHz', '2.00GHz', '1.80GHz', '2.20GHz',\n",
              "       '2.70GHz', '1.60GHz', '2.90GHz', '2.50GHz', '1.30GHz', '2.10GHz',\n",
              "       '3.20GHz', '1.70GHz', '1.10GHz', '2.60GHz', '2.30GHz', 'NotAvai',\n",
              "       '4.00GHz', '2.5GHz', '3.00GHz', '3.80GHz', '3.30GHz', '2.80GHz',\n",
              "       '3.8GHz', '1.8 GHz', '1.00GHz', '4.30GHz', '3.49 GHz', '800 kHz',\n",
              "       '3.4GHz', '1.30 GHz', '3.0GHz', '3.10GHz', '3.5GHz', '100 MHz',\n",
              "       '2.0 GHz', '3.70GHz', 'Up to 4.4 GHz Performance Dual-Core',\n",
              "       '1.6 GHz', '4.80 GHz', '3.10 GHz', '2.50 GHz', '3.60GHz',\n",
              "       'Up to 3.6 GHz Efficiency 8-Core', '3.030GHz', '3.8 GHz', '1.7GHz',\n",
              "       '4.3GHz', '3.40GHz', '2.8 GHz', '4.0GHz', '2.7GHz', '2.3GHz',\n",
              "       '2.6GHz', '2.4GHz', '1.1GHz', '2.1GHz', '5.16GHz', '4 GHz'],\n",
              "      dtype=object)"
            ]
          },
          "metadata": {},
          "output_type": "display_data"
        }
      ],
      "source": [
        "column = df['CPU speed'].unique()\n",
        "column"
      ]
    },
    {
      "cell_type": "code",
      "execution_count": null,
      "metadata": {},
      "outputs": [],
      "source": [
        "import re\n",
        "def process_cpuspeed(data):\n",
        "  data = str(data).lower()\n",
        "  if \"ghz\" in data:\n",
        "    data = data.split(\"ghz\")\n",
        "    data[0] = re.sub(r'[^0-9.]', '', data[0])\n",
        "    return data[0].replace(\" \", \"\")\n",
        "  elif \"khz\" in data:\n",
        "    data = re.sub(r'[^0-9.]', '', data)\n",
        "    return float(data)/10000000\n",
        "  elif \"mhz\" in data:\n",
        "    data = re.sub(r'[^0-9.]', '', data)\n",
        "    return float(data)/1000"
      ]
    },
    {
      "cell_type": "code",
      "execution_count": null,
      "metadata": {},
      "outputs": [],
      "source": [
        "df['CPU speed'] = df['CPU speed'].apply(process_cpuspeed)"
      ]
    },
    {
      "cell_type": "code",
      "execution_count": null,
      "metadata": {},
      "outputs": [
        {
          "data": {
            "text/plain": [
              "array(['2.40', '1.90', '1.20', '2.00', '1.80', '2.20', '2.70', '1.60',\n",
              "       '2.90', '2.50', '1.30', '2.10', '3.20', '1.70', '1.10', '2.60',\n",
              "       '2.30', None, '4.00', '2.5', '3.00', '3.80', '3.30', '2.80', '3.8',\n",
              "       '1.8', '1.00', '4.30', '3.49', 8e-05, '3.4', '3.0', '3.10', '3.5',\n",
              "       0.1, '2.0', '3.70', '4.4', '1.6', '4.80', '3.60', '3.6', '3.030',\n",
              "       '1.7', '4.3', '3.40', '2.8', '4.0', '2.7', '2.3', '2.6', '2.4',\n",
              "       '1.1', '2.1', '5.16', '4'], dtype=object)"
            ]
          },
          "metadata": {},
          "output_type": "display_data"
        }
      ],
      "source": [
        "column = df['CPU speed'].unique()\n",
        "column"
      ]
    },
    {
      "cell_type": "code",
      "execution_count": null,
      "metadata": {},
      "outputs": [
        {
          "data": {
            "text/plain": [
              "array(['13620H', '8665U', '1315U', '7730U', '1280P', '13900HX', '13700H',\n",
              "       '1215U', '7735U', 'NotAvai', '1195G7', '7945HX', '1335U',\n",
              "       '13980HX', '13700HX', '7735HS', '13420H', '8350U', 'N4020',\n",
              "       '5500U', '12800HX', '1235U', '7530U', '8650U', '8365U', '13900H',\n",
              "       '11400H', '12700H', 'N4500', '1255U', '11800H', '7945HX3D',\n",
              "       '1340P', 'nan', '6800HS', '12450H', '7940HS', '5825U', '12500H',\n",
              "       '8505', '1360P', '5350U', '13500H', '12650H', '1355U', '7840HS',\n",
              "       '1260P', '6800H', 'N5100', '9750H', '4980U', '8550U', '6900HS',\n",
              "       '1185G7', '6300U', '1155G7', '12900H', '13950HX', '7300U', '1265U',\n",
              "       '1240P', '5600H', '6900HX', '6600U', '1165G7', '4000+', '7600U',\n",
              "       '1135G7', '4600M', '13800H', '1365U', '7820HQ', '7640HS', '5625U',\n",
              "       '5900HX', '5250U', '1245U', '8265U', '7700HQ', '12900HK', '8250U',\n",
              "       '10100Y', 'E3-1505Mv6', '1115G4', '1145G7', 'E-2276M', '9400H',\n",
              "       '6200U', '8850H', '8565U', '9850H', 'N100', '6850U', '3250U',\n",
              "       '5700U', 'E3-1505Mv5', '10610U', '10210U', '1035G1', '6820HQ',\n",
              "       '5300U', '5600U', '12900HX', 'N5000', '6700HQ', '6920HQ',\n",
              "       'MT8183C', '5650U', '9880H', '7200U', '11370H', '5200U', '10310U',\n",
              "       '6500U', '4650U', '7520U', '11300H', 'N4000', '8145U', '3015Ce',\n",
              "       'E3-1545Mv5', 'E-2176M', '4810MQ', '6650U', '10980HK', '5800H',\n",
              "       '1270P', '4200U', '1125G4', '8400H', '10750H', '1345U', '5980HS',\n",
              "       '7440HQ', '8300H', 'MT8183', '1110G4', 'N3160', 'N6000', '12800H',\n",
              "       '10850H', '4680U', '4600U', 'i7-6820HQ', 'i5-6200U', '6300HQ',\n",
              "       '6440HQ', '3500U', '4800MQ', 'N3350', 'A4-9120C', '1370P',\n",
              "       '1140G7', '8950HK', 'MT8173C', '4305U', 'E3-1535Mv5', '4310U',\n",
              "       'N4120', '4710MQ', '9980HK', '1035G7', '1065G7', '8750H', '10710U',\n",
              "       '1035G4', 'E-2186M', '7535HS', '4340M', '8130U', '4300U',\n",
              "       '13850HX'], dtype=object)"
            ]
          },
          "metadata": {},
          "output_type": "display_data"
        }
      ],
      "source": [
        "column = df['CPU model'].unique()\n",
        "column"
      ]
    },
    {
      "cell_type": "markdown",
      "metadata": {},
      "source": [
        "## Xử lý Display Type"
      ]
    },
    {
      "cell_type": "code",
      "execution_count": null,
      "metadata": {},
      "outputs": [
        {
          "data": {
            "text/plain": [
              "array(['Full HD', 'WUXGA', nan, 'WQXGA', 'WQHD', 'QHD+ IPS (16:10)',\n",
              "       'QHD', 'QHD+', 'HD', 'WQXGA+', 'Retina Display', 'UHD+', 'HD+',\n",
              "       'TFT', 'WQUXGA', 'PixelSense Display', 'FHD+', 'UHD',\n",
              "       '1920 x 1200', 'IPS', 'DUAL-MODE: UHD + 120Hz / FHD + 240Hz',\n",
              "       'QHD+ (16 : 10)', 'FHD', 'Full HD Plus', 'LCD', 'LED', 'OLED',\n",
              "       'PixelSense Flow Display', 'WVA Display', 'ComfyView', 'Wide UXGA',\n",
              "       'Twisted nematic (TN)', 'CineCrystal', 'Wide XGA', 'OLED Display',\n",
              "       'Vivid Color, Corning Gorilla glass 3, Color Calibrated, sRGB Color Space, PixelSense, Dolby Vision IQ',\n",
              "       'LCD CineCrystal', 'IPS Display'], dtype=object)"
            ]
          },
          "metadata": {},
          "output_type": "display_data"
        }
      ],
      "source": [
        "column = df['Display Type'].unique()\n",
        "column"
      ]
    },
    {
      "cell_type": "markdown",
      "metadata": {},
      "source": [
        "## Xử lý Graphic Type"
      ]
    },
    {
      "cell_type": "code",
      "execution_count": null,
      "metadata": {},
      "outputs": [
        {
          "data": {
            "text/plain": [
              "array(['Integrated Card', 'Dedicated Card', nan, 'Dedicated',\n",
              "       'Dedicated Graphics', 'Integrated Graphics', 'Integrated',\n",
              "       'UHD Graphics', 'Shared', 'Intel HD Graphics 500'], dtype=object)"
            ]
          },
          "metadata": {},
          "output_type": "display_data"
        }
      ],
      "source": [
        "column = df['Graphic Type'].unique()\n",
        "column"
      ]
    },
    {
      "cell_type": "code",
      "execution_count": null,
      "metadata": {},
      "outputs": [],
      "source": [
        "def process_webcam(data):\n",
        "  data = str(data)\n",
        "  if \"Integrated\" in data or \"Intel HD Graphics 500\" in data or \"UHD Graphics\" in data:\n",
        "    return \"Integrated\"\n",
        "  elif \"Dedicated\" in data or \"Shared\" in data:\n",
        "    return \"Dedicated\"\n",
        "  else:\n",
        "    return np.NaN"
      ]
    },
    {
      "cell_type": "code",
      "execution_count": null,
      "metadata": {},
      "outputs": [],
      "source": [
        "df['Graphic Type'] = df['Graphic Type'].apply(process_webcam)"
      ]
    },
    {
      "cell_type": "code",
      "execution_count": null,
      "metadata": {},
      "outputs": [
        {
          "data": {
            "text/plain": [
              "279"
            ]
          },
          "metadata": {},
          "output_type": "display_data"
        }
      ],
      "source": [
        "df['Graphic Type'].isna().sum()"
      ]
    },
    {
      "cell_type": "code",
      "execution_count": null,
      "metadata": {},
      "outputs": [],
      "source": [
        "for index, row in df.iterrows():\n",
        "    if str(row['Graphic Type']) == \"nan\":\n",
        "      if 'NVIDIA' in str(row['GPU']) or 'AMD Radeon' in str(row['GPU']) :\n",
        "          df.at[index, 'Graphic Type'] = 'Dedicated'\n",
        "      elif row['GPU'] != '':\n",
        "          df.at[index, 'Graphic Type'] = 'Integrated'\n",
        "      else:\n",
        "          df.at[index, 'Graphic Type'] = np.NaN"
      ]
    },
    {
      "cell_type": "markdown",
      "metadata": {},
      "source": [
        "## Xử lý Operating System"
      ]
    },
    {
      "cell_type": "code",
      "execution_count": null,
      "metadata": {},
      "outputs": [
        {
          "data": {
            "text/plain": [
              "array(['Windows 11 Home', 'Windows 11 Pro', 'Windows 11 in S mode',\n",
              "       'Windows 10 Pro', 'Windows 10 Home', 'Chrome OS', nan, 'macOS',\n",
              "       'macOS 10.12 Sierra', 'Windows 10', 'Windows 10 S',\n",
              "       'Windows 10 in S mode', 'OS X 10.10 Yosemite', 'macOS 13 Ventura',\n",
              "       'Windows 11', 'macOS 10.13 High Sierra',\n",
              "       'Windows 11 Pro Education', 'Android 9.0 (Pie)', 'No',\n",
              "       'macOS 10.15 Catalina'], dtype=object)"
            ]
          },
          "metadata": {},
          "output_type": "display_data"
        }
      ],
      "source": [
        "column = df['Operating System'].unique()\n",
        "column"
      ]
    },
    {
      "cell_type": "code",
      "execution_count": null,
      "metadata": {},
      "outputs": [],
      "source": [
        "import re\n",
        "def process_OS(data):\n",
        "    data = str(data)\n",
        "    if \"macOS\" in data:\n",
        "        return \"macOS\"\n",
        "    elif \"Windows\" in data and \"S\" in data and \"10\" in data:\n",
        "        return \"Windows 10 in S mode\"\n",
        "    elif \"Windows\" in data and \"S\" in data and \"11\" in data:\n",
        "        return \"Windows 11 in S mode\"\n",
        "    elif data == \"nan\":\n",
        "        return \"No\"\n",
        "    else:\n",
        "        return data"
      ]
    },
    {
      "cell_type": "code",
      "execution_count": null,
      "metadata": {},
      "outputs": [],
      "source": [
        "df['Operating System'] = df['Operating System'].apply(process_OS)"
      ]
    },
    {
      "cell_type": "markdown",
      "metadata": {},
      "source": [
        "## Xử lý Card Reader"
      ]
    },
    {
      "cell_type": "code",
      "execution_count": null,
      "metadata": {},
      "outputs": [
        {
          "data": {
            "text/plain": [
              "array(['Micro SD', nan, 'SD Card Reader', 'SD 4.0 card reader', 'SD',\n",
              "       '4-in-1', '1 x card reader (microSD) (UHS-II)', 'SD7.0',\n",
              "       'Full Size SD Express', 'Multi-format SD media card reader',\n",
              "       'SD\\xa0Express\\xa07.0\\xa0card\\xa0reader',\n",
              "       'SDXC 7.0, PCIE interface, Full SD size connector',\n",
              "       '1 x card reader (microSD) (UHS-II, 312MB/s)', 'UFS/Micro SD',\n",
              "       'Full Size SD, Smart card Reader (CAC)', '2-in-1',\n",
              "       'SD 7.0 Card Reader', 'SD7.0 (XC/HC)', 'MicroSDXC',\n",
              "       'Hidden Micro SD', 'MicroSDXC Card Reader', 'SmartCard Reader',\n",
              "       'SD UHS-III', '(SD Card, SDHC Card, SDXC Card)',\n",
              "       'SD Card, SDHC Card, SDXC Card, SDUC Card',\n",
              "       'UHS-II SD Card Reader',\n",
              "       'Single Slot: microSD/microSDHC/microSDXC',\n",
              "       '1 x microSD Card Reader with UHS-II support',\n",
              "       '1 multi-format SD media card reader', '4-in-1 Card Reader',\n",
              "       'SD Express 7.0 card reader', 'MicroSDXC card reader',\n",
              "       'microSD Card Reader', 'MicroSD Multi-media Card Reader', 'Yes',\n",
              "       'Full-size SDXC card reader', 'Micro SD (UHS-III)'], dtype=object)"
            ]
          },
          "metadata": {},
          "output_type": "display_data"
        }
      ],
      "source": [
        "column = df['Card Reader'].unique()\n",
        "column"
      ]
    },
    {
      "cell_type": "code",
      "execution_count": null,
      "metadata": {},
      "outputs": [],
      "source": [
        "import re\n",
        "def process_cardreader(data):\n",
        "    data = str(data)\n",
        "    if (\"No\" in data) or data == \"nan\":\n",
        "        return \"No\"\n",
        "    else:\n",
        "        return \"Yes\""
      ]
    },
    {
      "cell_type": "code",
      "execution_count": null,
      "metadata": {},
      "outputs": [],
      "source": [
        "df['Card Reader'] = df['Card Reader'].apply(process_cardreader)"
      ]
    },
    {
      "cell_type": "markdown",
      "metadata": {},
      "source": [
        "## Xử lý Thunderbolt"
      ]
    },
    {
      "cell_type": "code",
      "execution_count": null,
      "metadata": {},
      "outputs": [
        {
          "data": {
            "text/plain": [
              "array([nan, '1 x Thunderbolt 4', '1 x Thunderbolt 4 / USB4',\n",
              "       '2 x Thunderbolt 4', '2 x Thunderbolt 4 / USB4',\n",
              "       '2 x Thunderbolt 3',\n",
              "       'Four Thunderbolt 3 (USB-C) ports with support for:\\r\\n\\r\\nCharging\\r\\nDisplayPort\\r\\nThunderbolt (up to 40Gb/s)\\r\\nUSB 3.1 Gen 2 (up to 10Gb/s)',\n",
              "       '2 x USB-C® with USB4®/ Thunderbolt™ 4 (with DisplayPort and Power Delivery)',\n",
              "       '1 x Thunderbolt', '1 x Thunderbolt (USB Type-C)',\n",
              "       '2 x Thunderbolt 4 (Supports DisplayPort and 100 W Power Delivery)',\n",
              "       '1 Thunderbolt™ 4 with USB Type-C® 40Gbps signaling rate (USB Power Delivery, DisplayPort™ 1.4)',\n",
              "       '1 x Thunderbolt 3',\n",
              "       '2 Thunderbolt™ 4 with USB4™ Type-C® 40Gbps signaling rate (USB Power Delivery, DisplayPort™ 1.4, HP Sleep and Charge)',\n",
              "       '2 x Thunderbolt 4 supports display / power delivery',\n",
              "       '2 Thunderbolt 4 (USB Type-C™) ports with DisplayPort and Power Delivery',\n",
              "       '2 x Thunderbolt 4 (Supports DisplayPort and Power Delivery)'],\n",
              "      dtype=object)"
            ]
          },
          "metadata": {},
          "output_type": "display_data"
        }
      ],
      "source": [
        "column = df['Thunderbolt'].unique()\n",
        "column"
      ]
    },
    {
      "cell_type": "code",
      "execution_count": null,
      "metadata": {},
      "outputs": [],
      "source": [
        "import re\n",
        "def process_Thunderbolt(data):\n",
        "    data = str(data)\n",
        "    if (\"No\" in data) or data == \"nan\":\n",
        "        return \"No\"\n",
        "    else:\n",
        "        return \"Yes\""
      ]
    },
    {
      "cell_type": "code",
      "execution_count": null,
      "metadata": {},
      "outputs": [],
      "source": [
        "df['Thunderbolt'] = df['Thunderbolt'].apply(process_cardreader)"
      ]
    },
    {
      "cell_type": "markdown",
      "metadata": {},
      "source": [
        "## Xử lý Weight"
      ]
    },
    {
      "cell_type": "code",
      "execution_count": null,
      "metadata": {},
      "outputs": [
        {
          "data": {
            "text/plain": [
              "array([3.  , 4.  , 5.  ,  nan, 6.  , 5.4 , 2.  , 5.16, 4.63, 5.07, 5.7 ,\n",
              "       2.2 , 5.51, 5.29, 1.15, 5.5 , 3.75, 3.44, 4.59, 6.39, 4.37, 5.24,\n",
              "       3.99, 3.9 , 2.78, 4.43, 3.56, 3.42, 4.58, 3.53, 3.2 , 7.  , 6.06,\n",
              "       2.86, 4.56, 5.1 , 4.8 , 2.8 , 3.3 , 3.92, 3.09, 2.94, 5.73, 2.75,\n",
              "       4.7 , 4.6 , 2.59, 3.04, 3.7 , 3.03, 1.79, 3.76, 5.26, 5.25, 3.86,\n",
              "       2.73, 3.24, 3.33, 3.85, 3.73, 3.05, 1.  , 3.97, 1.9 , 2.4 , 6.73,\n",
              "       3.02, 4.5 , 4.4 , 3.21, 4.19, 4.84, 5.14, 2.93, 1.73, 3.12, 3.06,\n",
              "       3.1 , 4.17, 2.97, 2.6 , 2.87, 3.37, 2.37, 3.84, 2.33, 3.81, 3.35,\n",
              "       3.64, 3.39, 4.81, 5.84, 3.31, 3.41, 3.4 , 3.28, 3.22, 1.22, 5.18,\n",
              "       6.28, 5.27, 5.09, 2.91, 4.05, 2.71, 3.88, 2.95, 2.62])"
            ]
          },
          "metadata": {},
          "output_type": "display_data"
        }
      ],
      "source": [
        "column = df['Weight'].unique()\n",
        "column"
      ]
    },
    {
      "cell_type": "code",
      "execution_count": null,
      "metadata": {},
      "outputs": [],
      "source": [
        "def weight_avg(x):\n",
        "    if str(x) == 'nan':\n",
        "        return np.NaN\n",
        "    x = str(x).split(' ')\n",
        "    try:\n",
        "        return float(x[0])\n",
        "    except:\n",
        "        try:\n",
        "            return float(x[1])\n",
        "        except:\n",
        "            return np.NaN"
      ]
    },
    {
      "cell_type": "code",
      "execution_count": null,
      "metadata": {},
      "outputs": [],
      "source": [
        "df['Weight'] = df['Weight'].apply(weight_avg)"
      ]
    },
    {
      "cell_type": "code",
      "execution_count": null,
      "metadata": {},
      "outputs": [
        {
          "data": {
            "text/plain": [
              "title                  0\n",
              "link                   0\n",
              "price                  0\n",
              "Screen Size           88\n",
              "CPU type             475\n",
              "Memory                 0\n",
              "Storage                0\n",
              "GPU                  562\n",
              "Resolution             0\n",
              "Weight              1166\n",
              "Backlit Keyboard       0\n",
              "Touchscreen            0\n",
              "CPU Speed            602\n",
              "Number of Cores      583\n",
              "Color                949\n",
              "Display Type         828\n",
              "Graphic Type           0\n",
              "Operating System       0\n",
              "Webcam                 0\n",
              "Card Reader            0\n",
              "Thunderbolt            0\n",
              "CPU model              0\n",
              "CPU speed            605\n",
              "dtype: int64"
            ]
          },
          "metadata": {},
          "output_type": "display_data"
        }
      ],
      "source": [
        "df.isnull().sum()"
      ]
    },
    {
      "cell_type": "code",
      "execution_count": null,
      "metadata": {},
      "outputs": [],
      "source": [
        "df.to_csv(\"newdataset 3.csv\")"
      ]
    },
    {
      "cell_type": "code",
      "execution_count": null,
      "metadata": {},
      "outputs": [],
      "source": [
        "df = pd.read_csv('newdataset 3.csv')"
      ]
    },
    {
      "cell_type": "code",
      "execution_count": null,
      "metadata": {},
      "outputs": [],
      "source": [
        "df = df.drop(['CPU Speed', 'Number of Cores', 'Color', 'Display Type', 'CPU speed'], axis=1)"
      ]
    },
    {
      "cell_type": "code",
      "execution_count": null,
      "metadata": {},
      "outputs": [],
      "source": [
        "df = df.dropna(subset=['CPU type'])"
      ]
    },
    {
      "cell_type": "code",
      "execution_count": null,
      "metadata": {},
      "outputs": [
        {
          "name": "stdout",
          "output_type": "stream",
          "text": [
            "<class 'pandas.core.frame.DataFrame'>\n",
            "Index: 1453 entries, 0 to 1920\n",
            "Data columns (total 19 columns):\n",
            " #   Column            Non-Null Count  Dtype  \n",
            "---  ------            --------------  -----  \n",
            " 0   Unnamed: 0        1453 non-null   int64  \n",
            " 1   title             1453 non-null   object \n",
            " 2   link              1453 non-null   object \n",
            " 3   price             1453 non-null   float64\n",
            " 4   Screen Size       1423 non-null   float64\n",
            " 5   CPU type          1453 non-null   object \n",
            " 6   Memory            1453 non-null   int64  \n",
            " 7   Storage           1453 non-null   int64  \n",
            " 8   GPU               1291 non-null   object \n",
            " 9   Resolution        1400 non-null   object \n",
            " 10  Weight            721 non-null    float64\n",
            " 11  Backlit Keyboard  1453 non-null   object \n",
            " 12  Touchscreen       1453 non-null   object \n",
            " 13  Graphic Type      1453 non-null   object \n",
            " 14  Operating System  1453 non-null   object \n",
            " 15  Webcam            1453 non-null   object \n",
            " 16  Card Reader       1453 non-null   object \n",
            " 17  Thunderbolt       1453 non-null   object \n",
            " 18  CPU model         1315 non-null   object \n",
            "dtypes: float64(3), int64(3), object(13)\n",
            "memory usage: 227.0+ KB\n"
          ]
        }
      ],
      "source": [
        "df.info()"
      ]
    },
    {
      "cell_type": "code",
      "execution_count": null,
      "metadata": {},
      "outputs": [],
      "source": [
        "df.to_csv(\"newdataset 4.csv\")"
      ]
    }
  ],
  "metadata": {
    "colab": {
      "provenance": []
    },
    "kernelspec": {
      "display_name": "Python 3",
      "name": "python3"
    },
    "language_info": {
      "name": "python"
    }
  },
  "nbformat": 4,
  "nbformat_minor": 0
}
